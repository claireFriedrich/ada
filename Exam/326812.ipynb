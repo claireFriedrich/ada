{
 "cells": [
  {
   "cell_type": "markdown",
   "metadata": {},
   "source": [
    "# ADA final exam (Fall 2024)"
   ]
  },
  {
   "cell_type": "markdown",
   "metadata": {},
   "source": [
    "This exam consists of 2 tasks. The two tasks are independent of each other. You can solve them in any order."
   ]
  },
  {
   "cell_type": "markdown",
   "metadata": {},
   "source": [
    "## Task 1: Natural Language Processing (50 pts)\n",
    "This part of the exam will analyze a real-world negotiation dataset:\n",
    "\n",
    "Two participants take the role of campsite neighbors and negotiate for Food, Water, and Firewood packages, based on their individual preferences and requirements. This design keeps the task tractable, while still facilitating linguistically rich and personal conversations.\n",
    "\n",
    "At the end of each negotiation, both negotiators receive an outcome score (`outcome`) reflecting their success in achieving their goals. The dataset is divided into two data frames:\n",
    "\n",
    "1. `df_negotiations`, with columns:\n",
    "    - `negotiation_id`: the negotiation identifier\n",
    "    - `agent`: the agent active in that turn, either `mt_agent_1` or `mt_agent_2` (first and second to interact)\n",
    "    - `message`: the message sent to the other agent\n",
    "    - `turn`: the negotiation turn\n",
    "2. `df_meta`, meta information for each negotiation with the outcome and agent background:\n",
    "    - `gender`: (male, female, other)\n",
    "    - `age`: integer\n",
    "    - `outcome`: integer\n",
    "\n",
    "We are interested in finding out: what makes a good (/bad) negotiator?"
   ]
  },
  {
   "cell_type": "markdown",
   "metadata": {},
   "source": [
    "### Part 1: Coding Questions (29 pt)"
   ]
  },
  {
   "cell_type": "code",
   "execution_count": 290,
   "metadata": {},
   "outputs": [
    {
     "data": {
      "text/html": [
       "<div>\n",
       "<style scoped>\n",
       "    .dataframe tbody tr th:only-of-type {\n",
       "        vertical-align: middle;\n",
       "    }\n",
       "\n",
       "    .dataframe tbody tr th {\n",
       "        vertical-align: top;\n",
       "    }\n",
       "\n",
       "    .dataframe thead th {\n",
       "        text-align: right;\n",
       "    }\n",
       "</style>\n",
       "<table border=\"1\" class=\"dataframe\">\n",
       "  <thead>\n",
       "    <tr style=\"text-align: right;\">\n",
       "      <th></th>\n",
       "      <th>agent</th>\n",
       "      <th>message</th>\n",
       "      <th>negotiation_id</th>\n",
       "      <th>turn</th>\n",
       "    </tr>\n",
       "  </thead>\n",
       "  <tbody>\n",
       "    <tr>\n",
       "      <th>0</th>\n",
       "      <td>mturk_agent_1</td>\n",
       "      <td>Hello! 🙂 Let's work together on a deal for the...</td>\n",
       "      <td>0</td>\n",
       "      <td>0</td>\n",
       "    </tr>\n",
       "    <tr>\n",
       "      <th>1</th>\n",
       "      <td>mturk_agent_2</td>\n",
       "      <td>Hey! I'd like some more firewood to keep my do...</td>\n",
       "      <td>0</td>\n",
       "      <td>0</td>\n",
       "    </tr>\n",
       "    <tr>\n",
       "      <th>2</th>\n",
       "      <td>mturk_agent_1</td>\n",
       "      <td>I need firewood as well. We have a large group...</td>\n",
       "      <td>0</td>\n",
       "      <td>1</td>\n",
       "    </tr>\n",
       "    <tr>\n",
       "      <th>3</th>\n",
       "      <td>mturk_agent_2</td>\n",
       "      <td>I see. 😮 What are you least interested in?</td>\n",
       "      <td>0</td>\n",
       "      <td>1</td>\n",
       "    </tr>\n",
       "    <tr>\n",
       "      <th>4</th>\n",
       "      <td>mturk_agent_1</td>\n",
       "      <td>We can make do without extra water. Can we tra...</td>\n",
       "      <td>0</td>\n",
       "      <td>2</td>\n",
       "    </tr>\n",
       "  </tbody>\n",
       "</table>\n",
       "</div>"
      ],
      "text/plain": [
       "           agent                                            message  \\\n",
       "0  mturk_agent_1  Hello! 🙂 Let's work together on a deal for the...   \n",
       "1  mturk_agent_2  Hey! I'd like some more firewood to keep my do...   \n",
       "2  mturk_agent_1  I need firewood as well. We have a large group...   \n",
       "3  mturk_agent_2         I see. 😮 What are you least interested in?   \n",
       "4  mturk_agent_1  We can make do without extra water. Can we tra...   \n",
       "\n",
       "   negotiation_id  turn  \n",
       "0               0     0  \n",
       "1               0     0  \n",
       "2               0     1  \n",
       "3               0     1  \n",
       "4               0     2  "
      ]
     },
     "execution_count": 290,
     "metadata": {},
     "output_type": "execute_result"
    }
   ],
   "source": [
    "import pandas as pd\n",
    "\n",
    "df_negotiations = pd.read_csv('negotiations.csv')\n",
    "df_negotiations.head()"
   ]
  },
  {
   "cell_type": "code",
   "execution_count": 291,
   "metadata": {},
   "outputs": [
    {
     "data": {
      "text/html": [
       "<div>\n",
       "<style scoped>\n",
       "    .dataframe tbody tr th:only-of-type {\n",
       "        vertical-align: middle;\n",
       "    }\n",
       "\n",
       "    .dataframe tbody tr th {\n",
       "        vertical-align: top;\n",
       "    }\n",
       "\n",
       "    .dataframe thead th {\n",
       "        text-align: right;\n",
       "    }\n",
       "</style>\n",
       "<table border=\"1\" class=\"dataframe\">\n",
       "  <thead>\n",
       "    <tr style=\"text-align: right;\">\n",
       "      <th></th>\n",
       "      <th>agent</th>\n",
       "      <th>age</th>\n",
       "      <th>gender</th>\n",
       "      <th>negotiation_id</th>\n",
       "      <th>outcome</th>\n",
       "    </tr>\n",
       "  </thead>\n",
       "  <tbody>\n",
       "    <tr>\n",
       "      <th>0</th>\n",
       "      <td>mturk_agent_1</td>\n",
       "      <td>31</td>\n",
       "      <td>female</td>\n",
       "      <td>797</td>\n",
       "      <td>21</td>\n",
       "    </tr>\n",
       "    <tr>\n",
       "      <th>1</th>\n",
       "      <td>mturk_agent_2</td>\n",
       "      <td>26</td>\n",
       "      <td>male</td>\n",
       "      <td>797</td>\n",
       "      <td>15</td>\n",
       "    </tr>\n",
       "    <tr>\n",
       "      <th>2</th>\n",
       "      <td>mturk_agent_1</td>\n",
       "      <td>65</td>\n",
       "      <td>male</td>\n",
       "      <td>909</td>\n",
       "      <td>18</td>\n",
       "    </tr>\n",
       "    <tr>\n",
       "      <th>3</th>\n",
       "      <td>mturk_agent_2</td>\n",
       "      <td>34</td>\n",
       "      <td>female</td>\n",
       "      <td>909</td>\n",
       "      <td>23</td>\n",
       "    </tr>\n",
       "    <tr>\n",
       "      <th>4</th>\n",
       "      <td>mturk_agent_1</td>\n",
       "      <td>26</td>\n",
       "      <td>male</td>\n",
       "      <td>135</td>\n",
       "      <td>26</td>\n",
       "    </tr>\n",
       "  </tbody>\n",
       "</table>\n",
       "</div>"
      ],
      "text/plain": [
       "           agent  age  gender  negotiation_id  outcome\n",
       "0  mturk_agent_1   31  female             797       21\n",
       "1  mturk_agent_2   26    male             797       15\n",
       "2  mturk_agent_1   65    male             909       18\n",
       "3  mturk_agent_2   34  female             909       23\n",
       "4  mturk_agent_1   26    male             135       26"
      ]
     },
     "execution_count": 291,
     "metadata": {},
     "output_type": "execute_result"
    }
   ],
   "source": [
    "df_meta = pd.read_csv('negotiations_meta.csv')\n",
    "df_meta.head()"
   ]
  },
  {
   "cell_type": "markdown",
   "metadata": {},
   "source": [
    "**1.1 (2 pt)**\n",
    "/Discussion:/ We are interested in analyzing negotiation outcomes by analyzing language usage. In order to use TF-IDF to accomplish this, we will treat all turns from one negotiator in a single negotiation as a \"document\". Why would this definition of \"document\" be preferred over the following two alternatives? Give at least one argument per alternative.\n",
    "\n",
    "- A) Each individual turn is a document\n",
    "- B) The entire negotiation dialogue of both negotiators is a document"
   ]
  },
  {
   "cell_type": "markdown",
   "metadata": {},
   "source": [
    "A) We would loose precious contexte information\n",
    "B) Each negociator has proper language and negociation strategies. By Merging all their sayings, we woul loose information about whether one or the other has better negociation skills, we would loose individuality."
   ]
  },
  {
   "cell_type": "markdown",
   "metadata": {},
   "source": [
    "**1.2 (3 pt)**\n",
    "\n",
    "[A, 1 pt] Use the negotiation dataset to create a new dataframe called `df_document` with the following columns:\n",
    "- `negotiation_id`\n",
    "- `agent`\n",
    "- `document`\n",
    "\n",
    "Here, document is defined as described in question 1.1. That is: concatonate messages into a single string and split by the special character `\"\\n\"`."
   ]
  },
  {
   "cell_type": "code",
   "execution_count": 292,
   "metadata": {},
   "outputs": [
    {
     "data": {
      "text/html": [
       "<div>\n",
       "<style scoped>\n",
       "    .dataframe tbody tr th:only-of-type {\n",
       "        vertical-align: middle;\n",
       "    }\n",
       "\n",
       "    .dataframe tbody tr th {\n",
       "        vertical-align: top;\n",
       "    }\n",
       "\n",
       "    .dataframe thead th {\n",
       "        text-align: right;\n",
       "    }\n",
       "</style>\n",
       "<table border=\"1\" class=\"dataframe\">\n",
       "  <thead>\n",
       "    <tr style=\"text-align: right;\">\n",
       "      <th></th>\n",
       "      <th>agent</th>\n",
       "      <th>negotiation_id</th>\n",
       "      <th>message</th>\n",
       "    </tr>\n",
       "  </thead>\n",
       "  <tbody>\n",
       "    <tr>\n",
       "      <th>0</th>\n",
       "      <td>mturk_agent_1</td>\n",
       "      <td>0</td>\n",
       "      <td>Hello! 🙂 Let's work together on a deal for the...</td>\n",
       "    </tr>\n",
       "    <tr>\n",
       "      <th>1</th>\n",
       "      <td>mturk_agent_1</td>\n",
       "      <td>1</td>\n",
       "      <td>I am good. I am pretty excited for the trip th...</td>\n",
       "    </tr>\n",
       "    <tr>\n",
       "      <th>2</th>\n",
       "      <td>mturk_agent_1</td>\n",
       "      <td>2</td>\n",
       "      <td>Hi! How are you?! You excited for your camping...</td>\n",
       "    </tr>\n",
       "    <tr>\n",
       "      <th>3</th>\n",
       "      <td>mturk_agent_1</td>\n",
       "      <td>3</td>\n",
       "      <td>oh dear, I am sorry to hear that my son is typ...</td>\n",
       "    </tr>\n",
       "    <tr>\n",
       "      <th>4</th>\n",
       "      <td>mturk_agent_1</td>\n",
       "      <td>4</td>\n",
       "      <td>I think food is my highest priority, What abou...</td>\n",
       "    </tr>\n",
       "    <tr>\n",
       "      <th>...</th>\n",
       "      <td>...</td>\n",
       "      <td>...</td>\n",
       "      <td>...</td>\n",
       "    </tr>\n",
       "    <tr>\n",
       "      <th>2051</th>\n",
       "      <td>mturk_agent_2</td>\n",
       "      <td>1025</td>\n",
       "      <td>Hello. My friend Jim and bob are on thier way ...</td>\n",
       "    </tr>\n",
       "    <tr>\n",
       "      <th>2052</th>\n",
       "      <td>mturk_agent_2</td>\n",
       "      <td>1026</td>\n",
       "      <td>Hello there.  Hope you are well today  🙂 \\nNot...</td>\n",
       "    </tr>\n",
       "    <tr>\n",
       "      <th>2053</th>\n",
       "      <td>mturk_agent_2</td>\n",
       "      <td>1027</td>\n",
       "      <td>Hello, I'm very excited for my trip, how about...</td>\n",
       "    </tr>\n",
       "    <tr>\n",
       "      <th>2054</th>\n",
       "      <td>mturk_agent_2</td>\n",
       "      <td>1028</td>\n",
       "      <td>Hey, I am also going camping but I am taking m...</td>\n",
       "    </tr>\n",
       "    <tr>\n",
       "      <th>2055</th>\n",
       "      <td>mturk_agent_2</td>\n",
       "      <td>1029</td>\n",
       "      <td>I think I need more water because I take medic...</td>\n",
       "    </tr>\n",
       "  </tbody>\n",
       "</table>\n",
       "<p>2056 rows × 3 columns</p>\n",
       "</div>"
      ],
      "text/plain": [
       "              agent  negotiation_id  \\\n",
       "0     mturk_agent_1               0   \n",
       "1     mturk_agent_1               1   \n",
       "2     mturk_agent_1               2   \n",
       "3     mturk_agent_1               3   \n",
       "4     mturk_agent_1               4   \n",
       "...             ...             ...   \n",
       "2051  mturk_agent_2            1025   \n",
       "2052  mturk_agent_2            1026   \n",
       "2053  mturk_agent_2            1027   \n",
       "2054  mturk_agent_2            1028   \n",
       "2055  mturk_agent_2            1029   \n",
       "\n",
       "                                                message  \n",
       "0     Hello! 🙂 Let's work together on a deal for the...  \n",
       "1     I am good. I am pretty excited for the trip th...  \n",
       "2     Hi! How are you?! You excited for your camping...  \n",
       "3     oh dear, I am sorry to hear that my son is typ...  \n",
       "4     I think food is my highest priority, What abou...  \n",
       "...                                                 ...  \n",
       "2051  Hello. My friend Jim and bob are on thier way ...  \n",
       "2052  Hello there.  Hope you are well today  🙂 \\nNot...  \n",
       "2053  Hello, I'm very excited for my trip, how about...  \n",
       "2054  Hey, I am also going camping but I am taking m...  \n",
       "2055  I think I need more water because I take medic...  \n",
       "\n",
       "[2056 rows x 3 columns]"
      ]
     },
     "execution_count": 292,
     "metadata": {},
     "output_type": "execute_result"
    }
   ],
   "source": [
    "# we need to concatenate all the messages from each turn for each negociation (id) and this for each agent! \n",
    "df_document = df_negotiations.groupby(['agent', 'negotiation_id']).agg({'message': '\\n'.join}).reset_index()\n",
    "df_document"
   ]
  },
  {
   "cell_type": "markdown",
   "metadata": {},
   "source": [
    "[B, 2pt] Next, merge this new dataframe with the `df_meta` dataframe. Print the the size and first five rows of the final dataframe"
   ]
  },
  {
   "cell_type": "code",
   "execution_count": 293,
   "metadata": {},
   "outputs": [
    {
     "name": "stdout",
     "output_type": "stream",
     "text": [
      "(2056, 6)\n"
     ]
    },
    {
     "data": {
      "text/html": [
       "<div>\n",
       "<style scoped>\n",
       "    .dataframe tbody tr th:only-of-type {\n",
       "        vertical-align: middle;\n",
       "    }\n",
       "\n",
       "    .dataframe tbody tr th {\n",
       "        vertical-align: top;\n",
       "    }\n",
       "\n",
       "    .dataframe thead th {\n",
       "        text-align: right;\n",
       "    }\n",
       "</style>\n",
       "<table border=\"1\" class=\"dataframe\">\n",
       "  <thead>\n",
       "    <tr style=\"text-align: right;\">\n",
       "      <th></th>\n",
       "      <th>agent</th>\n",
       "      <th>age</th>\n",
       "      <th>gender</th>\n",
       "      <th>negotiation_id</th>\n",
       "      <th>outcome</th>\n",
       "      <th>message</th>\n",
       "    </tr>\n",
       "  </thead>\n",
       "  <tbody>\n",
       "    <tr>\n",
       "      <th>0</th>\n",
       "      <td>mturk_agent_1</td>\n",
       "      <td>31</td>\n",
       "      <td>female</td>\n",
       "      <td>797</td>\n",
       "      <td>21</td>\n",
       "      <td>Hello. I am also hoping to get extra supplies....</td>\n",
       "    </tr>\n",
       "    <tr>\n",
       "      <th>1</th>\n",
       "      <td>mturk_agent_2</td>\n",
       "      <td>26</td>\n",
       "      <td>male</td>\n",
       "      <td>797</td>\n",
       "      <td>15</td>\n",
       "      <td>Hello there! I am looking for extra supplies!🙂...</td>\n",
       "    </tr>\n",
       "    <tr>\n",
       "      <th>2</th>\n",
       "      <td>mturk_agent_1</td>\n",
       "      <td>65</td>\n",
       "      <td>male</td>\n",
       "      <td>909</td>\n",
       "      <td>18</td>\n",
       "      <td>hi\\nI am. It's really hot here\\nHave you given...</td>\n",
       "    </tr>\n",
       "    <tr>\n",
       "      <th>3</th>\n",
       "      <td>mturk_agent_2</td>\n",
       "      <td>34</td>\n",
       "      <td>female</td>\n",
       "      <td>909</td>\n",
       "      <td>23</td>\n",
       "      <td>Hello! 🙂 Are you ready to go camping?\\nMake su...</td>\n",
       "    </tr>\n",
       "    <tr>\n",
       "      <th>4</th>\n",
       "      <td>mturk_agent_1</td>\n",
       "      <td>26</td>\n",
       "      <td>male</td>\n",
       "      <td>135</td>\n",
       "      <td>26</td>\n",
       "      <td>I need to keep the fire burning so i need fire...</td>\n",
       "    </tr>\n",
       "  </tbody>\n",
       "</table>\n",
       "</div>"
      ],
      "text/plain": [
       "           agent  age  gender  negotiation_id  outcome  \\\n",
       "0  mturk_agent_1   31  female             797       21   \n",
       "1  mturk_agent_2   26    male             797       15   \n",
       "2  mturk_agent_1   65    male             909       18   \n",
       "3  mturk_agent_2   34  female             909       23   \n",
       "4  mturk_agent_1   26    male             135       26   \n",
       "\n",
       "                                             message  \n",
       "0  Hello. I am also hoping to get extra supplies....  \n",
       "1  Hello there! I am looking for extra supplies!🙂...  \n",
       "2  hi\\nI am. It's really hot here\\nHave you given...  \n",
       "3  Hello! 🙂 Are you ready to go camping?\\nMake su...  \n",
       "4  I need to keep the fire burning so i need fire...  "
      ]
     },
     "execution_count": 293,
     "metadata": {},
     "output_type": "execute_result"
    }
   ],
   "source": [
    "df_merged = df_meta.merge(df_document, on=['negotiation_id', 'agent'])\n",
    "print(df_merged.shape)\n",
    "df_merged.head(5)"
   ]
  },
  {
   "cell_type": "markdown",
   "metadata": {},
   "source": [
    "**1.3 (7 pt)**\n",
    "We would like to analyze the difference between \"best\" and \"worst\" performers based on `outcome`, top and bottom 10% respectively.\n",
    "\n",
    "[A, 2 pt] Find the top and bottom 10% thresholds for the `outcome` columns and print them."
   ]
  },
  {
   "cell_type": "code",
   "execution_count": 294,
   "metadata": {},
   "outputs": [
    {
     "name": "stdout",
     "output_type": "stream",
     "text": [
      "top 10% threshold: 23.0\n",
      "bottom 10% threshold: 15.5\n"
     ]
    }
   ],
   "source": [
    "print(\"top 10% threshold:\", df_merged[\"outcome\"].quantile(0.9))\n",
    "print(\"bottom 10% threshold:\", df_merged[\"outcome\"].quantile(0.1))"
   ]
  },
  {
   "cell_type": "markdown",
   "metadata": {},
   "source": [
    "[B, 1pt] Create a TF-IDF matrix using the `TfidfVectorizer` form `sklearn`, setting `max_features=100` and `stop_words=\"english\"`. Print the resulting TF-IDF matrix shape."
   ]
  },
  {
   "cell_type": "code",
   "execution_count": 295,
   "metadata": {},
   "outputs": [
    {
     "name": "stdout",
     "output_type": "stream",
     "text": [
      "The TF-IDF matrix has shape (2056, 100)\n"
     ]
    }
   ],
   "source": [
    "from sklearn.feature_extraction.text import TfidfVectorizer\n",
    "\n",
    "corpus = df_merged['message'].tolist()\n",
    "\n",
    "vectorizer = TfidfVectorizer(max_features=100, stop_words=\"english\")\n",
    "tf_idf = vectorizer.fit_transform(corpus)\n",
    "print(f\"The TF-IDF matrix has shape {tf_idf.shape}\")"
   ]
  },
  {
   "cell_type": "markdown",
   "metadata": {},
   "source": [
    "[C, 4pt] Use your thresholds and the TF-IDF matrix to print the top 10 terms for each type of negotiatior (i.e., the best and worst performing negotiators from question 1.3.A)."
   ]
  },
  {
   "cell_type": "code",
   "execution_count": 296,
   "metadata": {},
   "outputs": [
    {
     "name": "stdout",
     "output_type": "stream",
     "text": [
      "Top 10 words for the best performing negociators: ['additional' 'people' 'pretty' 'thinking' 'feel' 'rest' 'away' 'item'\n",
      " 'fun' 'firewoods']\n",
      "Top 10 words for the worst performing negociators: ['split' 'priority' 'love' 'stay' 'item' 'works' 'pretty' 'way' 'does'\n",
      " 'having']\n"
     ]
    }
   ],
   "source": [
    "import numpy as np\n",
    "\n",
    "idx_top = df_merged.index[df_merged['outcome'] >= df_merged[\"outcome\"].quantile(0.9)].tolist()\n",
    "tfidf_top = tf_idf[idx_top]\n",
    "sum_tfidf_top = np.sum(tfidf_top, axis=0)\n",
    "idx_tf_top = np.argsort(sum_tfidf_top).tolist()[0][:10]\n",
    "top_words_top = vectorizer.get_feature_names_out()[idx_tf_top]\n",
    "print(\"Top 10 words for the best performing negociators:\", top_words_top)\n",
    "\n",
    "idx_bottom = df_merged.index[df_merged[\"outcome\"] <= df_merged[\"outcome\"].quantile(0.1)].tolist()\n",
    "tfidf_bottom = tf_idf[idx_bottom]\n",
    "sum_tfidf_bottom = np.sum(tfidf_bottom, axis=0)\n",
    "idx_tf_bottom = np.argsort(sum_tfidf_bottom).tolist()[0][:10]\n",
    "top_words_bottom = vectorizer.get_feature_names_out()[idx_tf_bottom]\n",
    "print(\"Top 10 words for the worst performing negociators:\", top_words_bottom)"
   ]
  },
  {
   "cell_type": "markdown",
   "metadata": {},
   "source": [
    "**1.4 (8 pt)**\n",
    "You never get a second chance at a first impression! Let's investigate if the same goes for negotiations...\n",
    "\n",
    "[A, 1pt] Create a new df_document that only takes into account the first three (3) turns of each negotiator in a negotiation. Again, merge on the df_meta dataframe and print the resulting size."
   ]
  },
  {
   "cell_type": "code",
   "execution_count": 297,
   "metadata": {},
   "outputs": [
    {
     "name": "stdout",
     "output_type": "stream",
     "text": [
      "(2056, 6)\n"
     ]
    },
    {
     "data": {
      "text/html": [
       "<div>\n",
       "<style scoped>\n",
       "    .dataframe tbody tr th:only-of-type {\n",
       "        vertical-align: middle;\n",
       "    }\n",
       "\n",
       "    .dataframe tbody tr th {\n",
       "        vertical-align: top;\n",
       "    }\n",
       "\n",
       "    .dataframe thead th {\n",
       "        text-align: right;\n",
       "    }\n",
       "</style>\n",
       "<table border=\"1\" class=\"dataframe\">\n",
       "  <thead>\n",
       "    <tr style=\"text-align: right;\">\n",
       "      <th></th>\n",
       "      <th>agent</th>\n",
       "      <th>age</th>\n",
       "      <th>gender</th>\n",
       "      <th>negotiation_id</th>\n",
       "      <th>outcome</th>\n",
       "      <th>message</th>\n",
       "    </tr>\n",
       "  </thead>\n",
       "  <tbody>\n",
       "    <tr>\n",
       "      <th>0</th>\n",
       "      <td>mturk_agent_1</td>\n",
       "      <td>31</td>\n",
       "      <td>female</td>\n",
       "      <td>797</td>\n",
       "      <td>21</td>\n",
       "      <td>Hello. I am also hoping to get extra supplies....</td>\n",
       "    </tr>\n",
       "    <tr>\n",
       "      <th>1</th>\n",
       "      <td>mturk_agent_2</td>\n",
       "      <td>26</td>\n",
       "      <td>male</td>\n",
       "      <td>797</td>\n",
       "      <td>15</td>\n",
       "      <td>Hello there! I am looking for extra supplies!🙂...</td>\n",
       "    </tr>\n",
       "    <tr>\n",
       "      <th>2</th>\n",
       "      <td>mturk_agent_1</td>\n",
       "      <td>65</td>\n",
       "      <td>male</td>\n",
       "      <td>909</td>\n",
       "      <td>18</td>\n",
       "      <td>hi\\nI am. It's really hot here\\nHave you given...</td>\n",
       "    </tr>\n",
       "    <tr>\n",
       "      <th>3</th>\n",
       "      <td>mturk_agent_2</td>\n",
       "      <td>34</td>\n",
       "      <td>female</td>\n",
       "      <td>909</td>\n",
       "      <td>23</td>\n",
       "      <td>Hello! 🙂 Are you ready to go camping?\\nMake su...</td>\n",
       "    </tr>\n",
       "    <tr>\n",
       "      <th>4</th>\n",
       "      <td>mturk_agent_1</td>\n",
       "      <td>26</td>\n",
       "      <td>male</td>\n",
       "      <td>135</td>\n",
       "      <td>26</td>\n",
       "      <td>I need to keep the fire burning so i need fire...</td>\n",
       "    </tr>\n",
       "  </tbody>\n",
       "</table>\n",
       "</div>"
      ],
      "text/plain": [
       "           agent  age  gender  negotiation_id  outcome  \\\n",
       "0  mturk_agent_1   31  female             797       21   \n",
       "1  mturk_agent_2   26    male             797       15   \n",
       "2  mturk_agent_1   65    male             909       18   \n",
       "3  mturk_agent_2   34  female             909       23   \n",
       "4  mturk_agent_1   26    male             135       26   \n",
       "\n",
       "                                             message  \n",
       "0  Hello. I am also hoping to get extra supplies....  \n",
       "1  Hello there! I am looking for extra supplies!🙂...  \n",
       "2  hi\\nI am. It's really hot here\\nHave you given...  \n",
       "3  Hello! 🙂 Are you ready to go camping?\\nMake su...  \n",
       "4  I need to keep the fire burning so i need fire...  "
      ]
     },
     "execution_count": 297,
     "metadata": {},
     "output_type": "execute_result"
    }
   ],
   "source": [
    "df_negotiations_trunc = df_negotiations[df_negotiations['turn'] <= 3]\n",
    "df_document = df_negotiations_trunc.groupby(['agent', 'negotiation_id']).agg({'message': '\\n'.join}).reset_index()\n",
    "df_merged = df_meta.merge(df_document, on=['negotiation_id', 'agent'])\n",
    "print(df_merged.shape)\n",
    "df_merged.head(5)"
   ]
  },
  {
   "cell_type": "markdown",
   "metadata": {},
   "source": [
    "[B, 1pt] Calculate the median negotiation outcome. Then, add a column called success to the df_document dataframe that is 1 if the outcome column is more than the median and 0 otherwise. Print the median outcome."
   ]
  },
  {
   "cell_type": "code",
   "execution_count": 298,
   "metadata": {},
   "outputs": [
    {
     "name": "stdout",
     "output_type": "stream",
     "text": [
      "median negociation outcome: 19.0\n"
     ]
    },
    {
     "data": {
      "text/html": [
       "<div>\n",
       "<style scoped>\n",
       "    .dataframe tbody tr th:only-of-type {\n",
       "        vertical-align: middle;\n",
       "    }\n",
       "\n",
       "    .dataframe tbody tr th {\n",
       "        vertical-align: top;\n",
       "    }\n",
       "\n",
       "    .dataframe thead th {\n",
       "        text-align: right;\n",
       "    }\n",
       "</style>\n",
       "<table border=\"1\" class=\"dataframe\">\n",
       "  <thead>\n",
       "    <tr style=\"text-align: right;\">\n",
       "      <th></th>\n",
       "      <th>agent</th>\n",
       "      <th>negotiation_id</th>\n",
       "      <th>message</th>\n",
       "      <th>success</th>\n",
       "    </tr>\n",
       "  </thead>\n",
       "  <tbody>\n",
       "    <tr>\n",
       "      <th>0</th>\n",
       "      <td>mturk_agent_1</td>\n",
       "      <td>0</td>\n",
       "      <td>Hello! 🙂 Let's work together on a deal for the...</td>\n",
       "      <td>1</td>\n",
       "    </tr>\n",
       "    <tr>\n",
       "      <th>1</th>\n",
       "      <td>mturk_agent_1</td>\n",
       "      <td>1</td>\n",
       "      <td>I am good. I am pretty excited for the trip th...</td>\n",
       "      <td>0</td>\n",
       "    </tr>\n",
       "    <tr>\n",
       "      <th>2</th>\n",
       "      <td>mturk_agent_1</td>\n",
       "      <td>2</td>\n",
       "      <td>Hi! How are you?! You excited for your camping...</td>\n",
       "      <td>0</td>\n",
       "    </tr>\n",
       "    <tr>\n",
       "      <th>3</th>\n",
       "      <td>mturk_agent_1</td>\n",
       "      <td>3</td>\n",
       "      <td>oh dear, I am sorry to hear that my son is typ...</td>\n",
       "      <td>1</td>\n",
       "    </tr>\n",
       "    <tr>\n",
       "      <th>4</th>\n",
       "      <td>mturk_agent_1</td>\n",
       "      <td>4</td>\n",
       "      <td>I think food is my highest priority, What abou...</td>\n",
       "      <td>1</td>\n",
       "    </tr>\n",
       "  </tbody>\n",
       "</table>\n",
       "</div>"
      ],
      "text/plain": [
       "           agent  negotiation_id  \\\n",
       "0  mturk_agent_1               0   \n",
       "1  mturk_agent_1               1   \n",
       "2  mturk_agent_1               2   \n",
       "3  mturk_agent_1               3   \n",
       "4  mturk_agent_1               4   \n",
       "\n",
       "                                             message  success  \n",
       "0  Hello! 🙂 Let's work together on a deal for the...        1  \n",
       "1  I am good. I am pretty excited for the trip th...        0  \n",
       "2  Hi! How are you?! You excited for your camping...        0  \n",
       "3  oh dear, I am sorry to hear that my son is typ...        1  \n",
       "4  I think food is my highest priority, What abou...        1  "
      ]
     },
     "execution_count": 298,
     "metadata": {},
     "output_type": "execute_result"
    }
   ],
   "source": [
    "median = df_merged['outcome'].median()\n",
    "print(\"median negociation outcome:\", median)\n",
    "\n",
    "df_document['success'] = df_merged['outcome'].apply(lambda x: 1 if x > median else 0)\n",
    "df_document.head()"
   ]
  },
  {
   "cell_type": "markdown",
   "metadata": {},
   "source": [
    "[C, 2pt] Create a TF-IDF matrix called `X` based on `df_document` using the following settings:\n",
    "\n",
    "`max_features=100, stop_words=\"english, ngram_range=(1, 2)`\n",
    "\n",
    "Additionally, create a variable `y` that corresponds to the success column. Finally, use `sklearn.model_selection.train_test_split` to split your data into a train and test set using parameters `test_size=0.2` and `random_state=99`.\n",
    "\n",
    "Print the shape of the TF-IDF and the shape of your train and test sets."
   ]
  },
  {
   "cell_type": "code",
   "execution_count": 299,
   "metadata": {},
   "outputs": [
    {
     "name": "stdout",
     "output_type": "stream",
     "text": [
      "The TF-IDF matrix has shape (2056, 100)\n"
     ]
    }
   ],
   "source": [
    "corpus = df_document['message'].tolist()\n",
    "\n",
    "vectorizer = TfidfVectorizer(max_features=100, stop_words=\"english\", ngram_range=(1, 2))\n",
    "X = vectorizer.fit_transform(corpus)\n",
    "print(f\"The TF-IDF matrix has shape {X.shape}\")\n",
    "\n",
    "y = df_document['success']"
   ]
  },
  {
   "cell_type": "code",
   "execution_count": 300,
   "metadata": {},
   "outputs": [
    {
     "name": "stdout",
     "output_type": "stream",
     "text": [
      "X_train: (1644, 100), X_test: (412, 100), y_train: (1644,) and y_test: (412,)\n"
     ]
    }
   ],
   "source": [
    "from sklearn.model_selection import train_test_split\n",
    "\n",
    "X_train, X_test, y_train, y_test = train_test_split(X, y, test_size=0.2, random_state=99)\n",
    "print(f\"X_train: {X_train.shape}, X_test: {X_test.shape}, y_train: {y_train.shape} and y_test: {y_test.shape}\")"
   ]
  },
  {
   "cell_type": "markdown",
   "metadata": {},
   "source": [
    "[D, 2pt] Use your prepared data to train a logistic regression model (`sklearn.linear_model.LogisticRegression`). Then, with the trained model predict on the test set and print a classification report (`sklearn.metrics.classification_report`)."
   ]
  },
  {
   "cell_type": "code",
   "execution_count": 301,
   "metadata": {},
   "outputs": [
    {
     "name": "stdout",
     "output_type": "stream",
     "text": [
      "              precision    recall  f1-score   support\n",
      "\n",
      "           0      0.634     0.915     0.749       258\n",
      "           1      0.450     0.117     0.186       154\n",
      "\n",
      "    accuracy                          0.617       412\n",
      "   macro avg      0.542     0.516     0.467       412\n",
      "weighted avg      0.565     0.617     0.539       412\n",
      "\n"
     ]
    }
   ],
   "source": [
    "from sklearn.linear_model import LogisticRegression\n",
    "from sklearn.metrics import classification_report\n",
    "\n",
    "clf = LogisticRegression()\n",
    "clf.fit(X_train, y_train)\n",
    "\n",
    "y_pred = clf.predict(X_test)\n",
    "\n",
    "print(classification_report(y_test, y_pred, digits=3))"
   ]
  },
  {
   "cell_type": "markdown",
   "metadata": {},
   "source": [
    "[E, 2pt] Use the weights of your trained model to show which terms mostly strongly correlate with high and low outcomes. Print the best five terms for each."
   ]
  },
  {
   "cell_type": "code",
   "execution_count": 302,
   "metadata": {},
   "outputs": [
    {
     "name": "stdout",
     "output_type": "stream",
     "text": [
      "we have 100 weights\n",
      "Terms for high outcome (1, good negociation) ['item' 'waters' 'pack' 'items' 'packages water' 'work' 'family'\n",
      " 'need firewood' 'lot' 'need']\n",
      "Terms for low outcome (0, good negociation) ['food' 'want' 'warm' 'yes' 'definitely' 'water food' 'really' 'hope'\n",
      " 'extra water' 'way']\n"
     ]
    }
   ],
   "source": [
    "print(f\"we have {clf.coef_.shape[1]} weights\")\n",
    "\n",
    "idx_top = np.argsort(clf.coef_).tolist()[0][:10]\n",
    "coefs_high = vectorizer.get_feature_names_out()[idx_top]\n",
    "print(\"Terms for high outcome (1, good negociation)\", coefs_high)\n",
    "\n",
    "idx_bottom = np.argsort(clf.coef_).tolist()[0][-10:]\n",
    "coefs_low = vectorizer.get_feature_names_out()[idx_bottom]\n",
    "print(\"Terms for low outcome (0, good negociation)\", coefs_low)"
   ]
  },
  {
   "cell_type": "markdown",
   "metadata": {},
   "source": [
    "**1.5 (9 pt)**\n",
    "You are concerned about potential “confounding” factors for your results in the previous question. Specifically, you would like to investigate the effect of “gender” on the outcomes.\n",
    "\n",
    "[A, 3pt] Visualize the outcomes stratified by gender using a bar plot with standard deviation around the mean. Make sure you use clear x- and y-axis labels, a title, and a legend."
   ]
  },
  {
   "cell_type": "code",
   "execution_count": 303,
   "metadata": {},
   "outputs": [
    {
     "data": {
      "image/png": "[encoded data removed]",
      "text/plain": [
       "<Figure size 640x480 with 1 Axes>"
      ]
     },
     "metadata": {},
     "output_type": "display_data"
    }
   ],
   "source": [
    "import seaborn as sns\n",
    "import matplotlib.pyplot as plt\n",
    "\n",
    "sns.barplot(x=\"gender\", y=\"outcome\", hue='gender', data=df_merged[['gender', 'outcome']], errorbar=\"sd\", legend=True)\n",
    "plt.ylabel(\"outcome\")\n",
    "plt.title(\"Mean outcomes for each gender\")\n",
    "plt.show()"
   ]
  },
  {
   "cell_type": "markdown",
   "metadata": {},
   "source": [
    "[B, 2pt] Perform a T-Test with a confidence interval of 0.95 to check if the outcomes based on gender are statistically significantly different. Print the resulting t-statistic, the p-value, and your interpretation of the result."
   ]
  },
  {
   "cell_type": "code",
   "execution_count": 304,
   "metadata": {},
   "outputs": [
    {
     "data": {
      "text/plain": [
       "TtestResult(statistic=-0.1518207180233982, pvalue=0.8793432508556187, df=2054.0)"
      ]
     },
     "execution_count": 304,
     "metadata": {},
     "output_type": "execute_result"
    }
   ],
   "source": [
    "from scipy import stats\n",
    "\n",
    "stats.ttest_ind(df_merged[df_merged['gender'] == 'male']['outcome'], df_merged[df_merged['gender'] == 'female']['outcome'])"
   ]
  },
  {
   "cell_type": "markdown",
   "metadata": {},
   "source": [
    "The NULL in this test is that the 2 samples have identical average\n",
    "\n",
    "- p-value = 0.88 > 0.05 which means that the NULL cannot be rejected, so we can say that the outcomes for men and women are not statistically significantly different. "
   ]
  },
  {
   "cell_type": "markdown",
   "metadata": {},
   "source": [
    "[C, 2pt] Finally, we would like to test if the gender distribution between high and low negotiation performers is significantly different. Please perform a chi-square test on the gender distribution of those negotiators scoring above the median outcome. Use a confidence interval of 0.95 and print the resulting chi-square statistic, p-value, and your interpretation of the result."
   ]
  },
  {
   "cell_type": "code",
   "execution_count": 305,
   "metadata": {},
   "outputs": [
    {
     "ename": "ValueError",
     "evalue": "could not convert string to float: 'female'",
     "output_type": "error",
     "traceback": [
      "\u001b[1;31m---------------------------------------------------------------------------\u001b[0m",
      "\u001b[1;31mValueError\u001b[0m                                Traceback (most recent call last)",
      "Cell \u001b[1;32mIn[305], line 3\u001b[0m\n\u001b[0;32m      1\u001b[0m \u001b[38;5;28;01mfrom\u001b[39;00m\u001b[38;5;250m \u001b[39m\u001b[38;5;21;01mscipy\u001b[39;00m\u001b[38;5;21;01m.\u001b[39;00m\u001b[38;5;21;01mstats\u001b[39;00m\u001b[38;5;250m \u001b[39m\u001b[38;5;28;01mimport\u001b[39;00m chisquare\n\u001b[1;32m----> 3\u001b[0m \u001b[43mchisquare\u001b[49m\u001b[43m(\u001b[49m\u001b[43mdf_merged\u001b[49m\u001b[43m[\u001b[49m\u001b[43mdf_merged\u001b[49m\u001b[43m[\u001b[49m\u001b[38;5;124;43m'\u001b[39;49m\u001b[38;5;124;43moutcome\u001b[39;49m\u001b[38;5;124;43m'\u001b[39;49m\u001b[43m]\u001b[49m\u001b[43m \u001b[49m\u001b[38;5;241;43m>\u001b[39;49m\u001b[43m \u001b[49m\u001b[43mmedian\u001b[49m\u001b[43m]\u001b[49m\u001b[43m[\u001b[49m\u001b[38;5;124;43m'\u001b[39;49m\u001b[38;5;124;43mgender\u001b[39;49m\u001b[38;5;124;43m'\u001b[39;49m\u001b[43m]\u001b[49m\u001b[43m)\u001b[49m\n",
      "File \u001b[1;32mc:\\Users\\fricl\\anaconda3\\envs\\ada_exam_2024\\lib\\site-packages\\scipy\\stats\\_stats_py.py:7850\u001b[0m, in \u001b[0;36mchisquare\u001b[1;34m(f_obs, f_exp, ddof, axis)\u001b[0m\n\u001b[0;32m   7681\u001b[0m \u001b[38;5;28;01mdef\u001b[39;00m\u001b[38;5;250m \u001b[39m\u001b[38;5;21mchisquare\u001b[39m(f_obs, f_exp\u001b[38;5;241m=\u001b[39m\u001b[38;5;28;01mNone\u001b[39;00m, ddof\u001b[38;5;241m=\u001b[39m\u001b[38;5;241m0\u001b[39m, axis\u001b[38;5;241m=\u001b[39m\u001b[38;5;241m0\u001b[39m):\n\u001b[0;32m   7682\u001b[0m \u001b[38;5;250m    \u001b[39m\u001b[38;5;124;03m\"\"\"Calculate a one-way chi-square test.\u001b[39;00m\n\u001b[0;32m   7683\u001b[0m \n\u001b[0;32m   7684\u001b[0m \u001b[38;5;124;03m    The chi-square test tests the null hypothesis that the categorical data\u001b[39;00m\n\u001b[1;32m   (...)\u001b[0m\n\u001b[0;32m   7848\u001b[0m \n\u001b[0;32m   7849\u001b[0m \u001b[38;5;124;03m    \"\"\"\u001b[39;00m  \u001b[38;5;66;03m# noqa: E501\u001b[39;00m\n\u001b[1;32m-> 7850\u001b[0m     \u001b[38;5;28;01mreturn\u001b[39;00m \u001b[43mpower_divergence\u001b[49m\u001b[43m(\u001b[49m\u001b[43mf_obs\u001b[49m\u001b[43m,\u001b[49m\u001b[43m \u001b[49m\u001b[43mf_exp\u001b[49m\u001b[38;5;241;43m=\u001b[39;49m\u001b[43mf_exp\u001b[49m\u001b[43m,\u001b[49m\u001b[43m \u001b[49m\u001b[43mddof\u001b[49m\u001b[38;5;241;43m=\u001b[39;49m\u001b[43mddof\u001b[49m\u001b[43m,\u001b[49m\u001b[43m \u001b[49m\u001b[43maxis\u001b[49m\u001b[38;5;241;43m=\u001b[39;49m\u001b[43maxis\u001b[49m\u001b[43m,\u001b[49m\n\u001b[0;32m   7851\u001b[0m \u001b[43m                            \u001b[49m\u001b[43mlambda_\u001b[49m\u001b[38;5;241;43m=\u001b[39;49m\u001b[38;5;124;43m\"\u001b[39;49m\u001b[38;5;124;43mpearson\u001b[39;49m\u001b[38;5;124;43m\"\u001b[39;49m\u001b[43m)\u001b[49m\n",
      "File \u001b[1;32mc:\\Users\\fricl\\anaconda3\\envs\\ada_exam_2024\\lib\\site-packages\\scipy\\stats\\_stats_py.py:7615\u001b[0m, in \u001b[0;36mpower_divergence\u001b[1;34m(f_obs, f_exp, ddof, axis, lambda_)\u001b[0m\n\u001b[0;32m   7611\u001b[0m dtype \u001b[38;5;241m=\u001b[39m default_float \u001b[38;5;28;01mif\u001b[39;00m xp\u001b[38;5;241m.\u001b[39misdtype(f_obs\u001b[38;5;241m.\u001b[39mdtype, \u001b[38;5;124m'\u001b[39m\u001b[38;5;124mintegral\u001b[39m\u001b[38;5;124m'\u001b[39m) \u001b[38;5;28;01melse\u001b[39;00m f_obs\u001b[38;5;241m.\u001b[39mdtype\n\u001b[0;32m   7612\u001b[0m f_obs \u001b[38;5;241m=\u001b[39m (f_obs\u001b[38;5;241m.\u001b[39mastype(dtype) \u001b[38;5;28;01mif\u001b[39;00m np\u001b[38;5;241m.\u001b[39mma\u001b[38;5;241m.\u001b[39misMaskedArray(f_obs)\n\u001b[0;32m   7613\u001b[0m          \u001b[38;5;28;01melse\u001b[39;00m xp\u001b[38;5;241m.\u001b[39masarray(f_obs, dtype\u001b[38;5;241m=\u001b[39mdtype))\n\u001b[0;32m   7614\u001b[0m f_obs_float \u001b[38;5;241m=\u001b[39m (f_obs\u001b[38;5;241m.\u001b[39mastype(np\u001b[38;5;241m.\u001b[39mfloat64) \u001b[38;5;28;01mif\u001b[39;00m \u001b[38;5;28mhasattr\u001b[39m(f_obs, \u001b[38;5;124m'\u001b[39m\u001b[38;5;124mmask\u001b[39m\u001b[38;5;124m'\u001b[39m)\n\u001b[1;32m-> 7615\u001b[0m                \u001b[38;5;28;01melse\u001b[39;00m \u001b[43mxp\u001b[49m\u001b[38;5;241;43m.\u001b[39;49m\u001b[43masarray\u001b[49m\u001b[43m(\u001b[49m\u001b[43mf_obs\u001b[49m\u001b[43m,\u001b[49m\u001b[43m \u001b[49m\u001b[43mdtype\u001b[49m\u001b[38;5;241;43m=\u001b[39;49m\u001b[43mxp\u001b[49m\u001b[38;5;241;43m.\u001b[39;49m\u001b[43mfloat64\u001b[49m\u001b[43m)\u001b[49m)\n\u001b[0;32m   7617\u001b[0m \u001b[38;5;28;01mif\u001b[39;00m f_exp \u001b[38;5;129;01mis\u001b[39;00m \u001b[38;5;129;01mnot\u001b[39;00m \u001b[38;5;28;01mNone\u001b[39;00m:\n\u001b[0;32m   7618\u001b[0m     warn_masked(f_exp)\n",
      "File \u001b[1;32mc:\\Users\\fricl\\anaconda3\\envs\\ada_exam_2024\\lib\\site-packages\\scipy\\_lib\\array_api_compat\\common\\_aliases.py:335\u001b[0m, in \u001b[0;36m_asarray\u001b[1;34m(obj, dtype, device, copy, namespace, **kwargs)\u001b[0m\n\u001b[0;32m    333\u001b[0m         copy \u001b[38;5;241m=\u001b[39m \u001b[38;5;28;01mTrue\u001b[39;00m\n\u001b[0;32m    334\u001b[0m     \u001b[38;5;28;01mif\u001b[39;00m copy \u001b[38;5;129;01min\u001b[39;00m COPY_TRUE:\n\u001b[1;32m--> 335\u001b[0m         \u001b[38;5;28;01mreturn\u001b[39;00m \u001b[43mxp\u001b[49m\u001b[38;5;241;43m.\u001b[39;49m\u001b[43marray\u001b[49m\u001b[43m(\u001b[49m\u001b[43mobj\u001b[49m\u001b[43m,\u001b[49m\u001b[43m \u001b[49m\u001b[43mcopy\u001b[49m\u001b[38;5;241;43m=\u001b[39;49m\u001b[38;5;28;43;01mTrue\u001b[39;49;00m\u001b[43m,\u001b[49m\u001b[43m \u001b[49m\u001b[43mdtype\u001b[49m\u001b[38;5;241;43m=\u001b[39;49m\u001b[43mdtype\u001b[49m\u001b[43m)\u001b[49m\n\u001b[0;32m    336\u001b[0m     \u001b[38;5;28;01mreturn\u001b[39;00m obj\n\u001b[0;32m    337\u001b[0m \u001b[38;5;28;01melif\u001b[39;00m namespace \u001b[38;5;241m==\u001b[39m \u001b[38;5;124m\"\u001b[39m\u001b[38;5;124mdask.array\u001b[39m\u001b[38;5;124m\"\u001b[39m:\n",
      "\u001b[1;31mValueError\u001b[0m: could not convert string to float: 'female'"
     ]
    }
   ],
   "source": [
    "from scipy.stats import chisquare\n",
    "\n",
    "chisquare(df_merged[df_merged['outcome'] > median]['gender'])"
   ]
  },
  {
   "cell_type": "markdown",
   "metadata": {},
   "source": [
    "[D, 2pt] /Discuss:/ In addition to the gender attribute, could you think of other measurable factors in this dataset that could be tested as confounders? List at least two more and explain why.\n",
    "\n",
    "Another confounder would be the message length. It could be that negociators that perform better simply are more persistant and speak more and longer. "
   ]
  },
  {
   "cell_type": "markdown",
   "metadata": {},
   "source": [
    "### Part 2: Insight Questions (15 pt)"
   ]
  },
  {
   "cell_type": "markdown",
   "metadata": {},
   "source": [
    "**2.1 (3pt)**\n",
    "In the context of analyzing negotiation turns, why would TF-IDF be more suitable than simple word frequency counts when trying to identify distinctive communication patterns between successful and unsuccessful negotiations?"
   ]
  },
  {
   "cell_type": "markdown",
   "metadata": {},
   "source": [
    "In a TF-IDF, weights of words depend on the rest of the corpus and not simply on the document being considered. In our context of negociation, we want to capture cross-negiciation word importance and not only the words that are important in a particular negociation session. "
   ]
  },
  {
   "cell_type": "markdown",
   "metadata": {},
   "source": [
    "**2.2 (2pt)**\n",
    "How would you modify the standard TF-IDF implementation to account for the temporal nature of negotiation turns? Consider that early turns might be more important for setting the tone of the negotiation than later turns."
   ]
  },
  {
   "cell_type": "markdown",
   "metadata": {},
   "source": [
    "I would give larger weights to words occuring later in the negociation since negociation is more intense and important later in the conversation. Smaller weights would be attributed to words appearing earlier in the conversation. Simply said, I would mutliply, for each document/negociation, each term in the TD-IDF matri by a temporla weight that is as described above. "
   ]
  },
  {
   "cell_type": "markdown",
   "metadata": {},
   "source": [
    "**2.3 (3 pt)**\n",
    "In our negotiation dataset, successful negotiators might simply write longer messages. How could this create a misleading interpretation of our TF-IDF results, and what would be a simple way to test for this potential bias?"
   ]
  },
  {
   "cell_type": "markdown",
   "metadata": {},
   "source": [
    "Longer messages have more words in them, making our interpretation of the TF-IDF misleading. We could control for the length confounder by normalizing each valueof the TF-IDF by the length of the message (so rowwise normalization)"
   ]
  },
  {
   "cell_type": "markdown",
   "metadata": {},
   "source": [
    "**2.4 (3pt)**\n",
    "In our negotiation dataset, consider these two opening messages from different agents:\n",
    "\n",
    "Agent A: \"I propose we split the resources fairly\" Agent B: \"I suggest we divide the assets equitably\"\n",
    "\n",
    "These messages are semantically very similar but use different vocabulary. Explain:\n",
    "\n",
    "- a) How TF-IDF would process these messages differently\n",
    "- b) How word embeddings (like Word2Vec) would handle them\n",
    "- c) Why this distinction matters for negotiation analysis"
   ]
  },
  {
   "cell_type": "markdown",
   "metadata": {},
   "source": [
    "[your answer]"
   ]
  },
  {
   "cell_type": "markdown",
   "metadata": {},
   "source": [
    "**2.5 (4pt)**\n",
    "Staying in the context of negotiations, explain why N-gram models such as bigrams might be more informative than unigrams for predicting negotiation outcomes. Provide two examples of bigrams that would be particularly meaningful in negotiation contexts but would lose their significance if split into unigrams."
   ]
  },
  {
   "cell_type": "markdown",
   "metadata": {},
   "source": [
    "A same word might not lead to same outcome when placed in different contexts: \n",
    "\n",
    "- lower prices \n",
    "- "
   ]
  },
  {
   "cell_type": "markdown",
   "metadata": {},
   "source": [
    "## Task 2: Analysis of Co-Author Network (50 pts)"
   ]
  },
  {
   "cell_type": "markdown",
   "metadata": {},
   "source": [
    "\n",
    "In this part, you will analyze a reserach publication dataset derived from \n",
    "[social influence analysis in large-scale networks](https://keg.cs.tsinghua.edu.cn/jietang/publications/KDD09-Tang-et-al-Social-Influence-Analysis.pdf) (the paper itself is irrelevant to this exam, don't waste time reading it).\n",
    "\n",
    "The citation data is extracted from DBLP, ACM, MAG (Microsoft Academic Graph), and other sources. Each paper is associated with abstract, authors, year, venue, and title.\n",
    "\n",
    "Dataset: [citation dataset](https://cn.aminer.org/citation)\n",
    "\n",
    "Paper: [social influence analysis in large-scale networks](https://keg.cs.tsinghua.edu.cn/jietang/publications/KDD09-Tang-et-al-Social-Influence-Analysis.pdf)\n"
   ]
  },
  {
   "cell_type": "markdown",
   "metadata": {},
   "source": [
    "### Download data from the web\n",
    "\n",
    "#### For Linux and MacOS:\n",
    "```bash\n",
    "wget https://lfs.aminer.cn/lab-datasets/citation/citation-network1.zip\n",
    "unzip citation-network1.zip\n",
    "ls -l outputacm.txt\n",
    "```\n",
    "\n",
    "#### For windows we recommend using WSL (Windows Subsystem for Linux) with above commands or directly downloading the file from the browser at \n",
    "https://lfs.aminer.cn/lab-datasets/citation\n",
    "\n"
   ]
  },
  {
   "cell_type": "code",
   "execution_count": 306,
   "metadata": {},
   "outputs": [
    {
     "name": "stdout",
     "output_type": "stream",
     "text": [
      "Dataset loaded with 629814 entries.\n",
      "colums: Index(['title', 'authors', 'year', 'venue', 'references', 'abstract'], dtype='object')\n"
     ]
    }
   ],
   "source": [
    "import numpy as np\n",
    "import pandas as pd\n",
    "import scipy as sp\n",
    "import networkx as nx\n",
    "import matplotlib.pyplot as plt\n",
    "\n",
    "from helper import load_data_as_df\n",
    "\n",
    "\n",
    "# Define the file path\n",
    "file_path = \"outputacm.txt\"\n",
    "\n",
    "# Load the data into a DataFrame\n",
    "df = load_data_as_df(file_path)\n",
    "\n",
    "# check if the index column is the same as the index \n",
    "print(f\"Dataset loaded with {len(df)} entries.\")\n",
    "print(f\"colums: {df.columns}\")"
   ]
  },
  {
   "cell_type": "markdown",
   "metadata": {},
   "source": [
    "**3.1 (6 pts)**: Analyze Papers Published Per Year\n",
    "\n",
    "**Objective:**  \n",
    "Analyze and visualize publication trends to understand how the research field has evolved over time.\n",
    "\n",
    "#### Instructions:\n",
    "1. Group the data by the year of publication and count the number of papers for each year (2 pts).\n",
    "2. Plot a bar chart showing the number of papers published per year from **1990 to 2010**. (2 pts)\n",
    "3. Focus on the pattern between **1996 and 2004**:\n",
    "   - **Discuss:** Describe any notable trends or changes in the number of publications during this period. (2 pts)\n",
    "   - **Bonus:** Hypothesize potential reasons for the observed pattern.  (2 pts)\n",
    "     *Hint: Consider events or trends related to the dataset's focus on computer science.* \n"
   ]
  },
  {
   "cell_type": "code",
   "execution_count": 307,
   "metadata": {},
   "outputs": [],
   "source": [
    "# 1\n",
    "df_year = df.groupby('year').size().reset_index(name='papers')"
   ]
  },
  {
   "cell_type": "code",
   "execution_count": 308,
   "metadata": {},
   "outputs": [
    {
     "data": {
      "image/png": "[encoded data removed]",
      "text/plain": [
       "<Figure size 1000x500 with 1 Axes>"
      ]
     },
     "metadata": {},
     "output_type": "display_data"
    }
   ],
   "source": [
    "# 2\n",
    "plt.figure(figsize=(10, 5))\n",
    "sns.barplot(x=\"year\", y=\"papers\", data=df_year[(df_year['year'] >= 1996) & (df_year['year'] <= 2004)])\n",
    "plt.ylabel(\"# papers\")\n",
    "plt.xticks(rotation=90)\n",
    "plt.title(\"Mean outcomes for each gender\")\n",
    "plt.show()"
   ]
  },
  {
   "cell_type": "markdown",
   "metadata": {},
   "source": [
    "3) We note a glabally increasing trend between 1996 and 2000 and then decreasing. In 2000 there is a peak, surely because of the computer being developped!"
   ]
  },
  {
   "cell_type": "markdown",
   "metadata": {},
   "source": [
    "**3.2 (4 pts)**: Authors Per Paper Analysis\n",
    "\n",
    "With the rise of interdisciplinary research, multi-authored papers are becoming more common. This task will help us understand collaboration dynamics in the academic world.\n",
    "\n",
    "#### Instructions:\n",
    "- Get the number of authors for each paper and calculate the percentage of papers with four or more authors. (2 pts)\n",
    "- Plot a histogram to show the frequency distribution of the number of authors per paper (2 pts)(choose `bins=range(0, 30)` and set y-axis to log scale)."
   ]
  },
  {
   "cell_type": "code",
   "execution_count": 309,
   "metadata": {},
   "outputs": [
    {
     "name": "stdout",
     "output_type": "stream",
     "text": [
      "Percentage of paper with 4 or more authors: 13%\n"
     ]
    },
    {
     "data": {
      "image/png": "[encoded data removed]",
      "text/plain": [
       "<Figure size 640x480 with 1 Axes>"
      ]
     },
     "metadata": {},
     "output_type": "display_data"
    }
   ],
   "source": [
    "df_authors = df[['title', 'authors']]\n",
    "df_authors.loc[:, 'authors'] = df_authors['authors'].apply(lambda x: len(x))\n",
    "\n",
    "print(f\"Percentage of paper with 4 or more authors: {round(len(df_authors[df_authors['authors'] >= 4]) / len(df_authors) * 100)}%\")\n",
    "\n",
    "plt.hist(df_authors['authors'], bins=range(0, 30))\n",
    "plt.xlabel(\"# authors\")\n",
    "plt.ylabel(\"frequency\")\n",
    "plt.title(\"Frequency distribution of the number of authors per paper\")\n",
    "plt.show()"
   ]
  },
  {
   "cell_type": "markdown",
   "metadata": {},
   "source": [
    "**3.3 (4 pts)**: Temporal Collaboration Trends\n",
    "\n",
    "Collaboration dynamics can change over time. This task will help us understand how collaboration trends have evolved in the academic world.\n",
    "\n",
    "#### Instructions:\n",
    "- Group the data by publication year, calculate the average number of authors per paper for each year, and create a line plot to visualize how it has changed from 1990 to 2010 (1 pt).\n",
    "- **Discuss:** There has been a hypothesis that the number of authors per paper has increased over time. Based on the plot, do you agree with this hypothesis ? (1 pt)\n",
    "- Compute the P-value of the hypothesis that the average number of authors per paper after 2000 is significantly higher than before 2000. (2 pts)"
   ]
  },
  {
   "cell_type": "code",
   "execution_count": 310,
   "metadata": {},
   "outputs": [
    {
     "data": {
      "image/png": "[encoded data removed]",
      "text/plain": [
       "<Figure size 640x480 with 1 Axes>"
      ]
     },
     "metadata": {},
     "output_type": "display_data"
    }
   ],
   "source": [
    "df['num_authors'] = df_authors['authors']\n",
    "\n",
    "df_year_authors = df.groupby('year').agg({'num_authors': 'mean'}).reset_index()\n",
    "\n",
    "plt.plot(df_year_authors[(df_year_authors['year'] >= 1990) & (df_year_authors['year'] <= 2010)]['year'], df_year_authors[(df_year_authors['year'] >= 1990) & (df_year_authors['year'] <= 2010)]['num_authors'])\n",
    "plt.xlabel('year')\n",
    "plt.ylabel('mean number of authors per paper')\n",
    "plt.title(\"Average number of authors per paper per year\")\n",
    "plt.show()"
   ]
  },
  {
   "cell_type": "markdown",
   "metadata": {},
   "source": [
    "- The average number of authors per paper clearly increases every year. The hypothesis is true :) Carefull that this plot shows the average number of authors, is might be that some papers have an insanely high number of authors and some have only one author. But clearly, the MEAN number of authors increases!"
   ]
  },
  {
   "cell_type": "code",
   "execution_count": 311,
   "metadata": {},
   "outputs": [
    {
     "data": {
      "text/plain": [
       "55    2.258768\n",
       "56    2.351465\n",
       "57    2.243817\n",
       "58    2.414071\n",
       "59    2.445662\n",
       "60    2.411473\n",
       "61    2.620667\n",
       "62    2.729605\n",
       "63    2.798189\n",
       "64    2.726316\n",
       "65         1.0\n",
       "Name: num_authors, dtype: object"
      ]
     },
     "execution_count": 311,
     "metadata": {},
     "output_type": "execute_result"
    }
   ],
   "source": [
    "df_year_authors[df_year_authors['year'] > 2000]['num_authors']"
   ]
  },
  {
   "cell_type": "code",
   "execution_count": 312,
   "metadata": {},
   "outputs": [
    {
     "ename": "ValueError",
     "evalue": "data type <class 'numpy.object_'> not inexact",
     "output_type": "error",
     "traceback": [
      "\u001b[1;31m---------------------------------------------------------------------------\u001b[0m",
      "\u001b[1;31mValueError\u001b[0m                                Traceback (most recent call last)",
      "Cell \u001b[1;32mIn[312], line 1\u001b[0m\n\u001b[1;32m----> 1\u001b[0m \u001b[43mstats\u001b[49m\u001b[38;5;241;43m.\u001b[39;49m\u001b[43mttest_ind\u001b[49m\u001b[43m(\u001b[49m\u001b[43mdf_year_authors\u001b[49m\u001b[43m[\u001b[49m\u001b[43mdf_year_authors\u001b[49m\u001b[43m[\u001b[49m\u001b[38;5;124;43m'\u001b[39;49m\u001b[38;5;124;43myear\u001b[39;49m\u001b[38;5;124;43m'\u001b[39;49m\u001b[43m]\u001b[49m\u001b[43m \u001b[49m\u001b[38;5;241;43m>\u001b[39;49m\u001b[43m \u001b[49m\u001b[38;5;241;43m2000\u001b[39;49m\u001b[43m]\u001b[49m\u001b[43m[\u001b[49m\u001b[38;5;124;43m'\u001b[39;49m\u001b[38;5;124;43mnum_authors\u001b[39;49m\u001b[38;5;124;43m'\u001b[39;49m\u001b[43m]\u001b[49m\u001b[43m,\u001b[49m\u001b[43m \u001b[49m\u001b[43mdf_year_authors\u001b[49m\u001b[43m[\u001b[49m\u001b[43mdf_year_authors\u001b[49m\u001b[43m[\u001b[49m\u001b[38;5;124;43m'\u001b[39;49m\u001b[38;5;124;43myear\u001b[39;49m\u001b[38;5;124;43m'\u001b[39;49m\u001b[43m]\u001b[49m\u001b[43m \u001b[49m\u001b[38;5;241;43m<\u001b[39;49m\u001b[43m \u001b[49m\u001b[38;5;241;43m2000\u001b[39;49m\u001b[43m]\u001b[49m\u001b[43m[\u001b[49m\u001b[38;5;124;43m'\u001b[39;49m\u001b[38;5;124;43mnum_authors\u001b[39;49m\u001b[38;5;124;43m'\u001b[39;49m\u001b[43m]\u001b[49m\u001b[43m,\u001b[49m\u001b[43m \u001b[49m\u001b[43malternative\u001b[49m\u001b[38;5;241;43m=\u001b[39;49m\u001b[38;5;124;43m'\u001b[39;49m\u001b[38;5;124;43mgreater\u001b[39;49m\u001b[38;5;124;43m'\u001b[39;49m\u001b[43m)\u001b[49m\n",
      "File \u001b[1;32mc:\\Users\\fricl\\anaconda3\\envs\\ada_exam_2024\\lib\\site-packages\\scipy\\stats\\_axis_nan_policy.py:573\u001b[0m, in \u001b[0;36m_axis_nan_policy_factory.<locals>.axis_nan_policy_decorator.<locals>.axis_nan_policy_wrapper\u001b[1;34m(***failed resolving arguments***)\u001b[0m\n\u001b[0;32m    570\u001b[0m     res \u001b[38;5;241m=\u001b[39m _add_reduced_axes(res, reduced_axes, keepdims)\n\u001b[0;32m    571\u001b[0m     \u001b[38;5;28;01mreturn\u001b[39;00m tuple_to_result(\u001b[38;5;241m*\u001b[39mres)\n\u001b[1;32m--> 573\u001b[0m res \u001b[38;5;241m=\u001b[39m hypotest_fun_out(\u001b[38;5;241m*\u001b[39msamples, \u001b[38;5;241m*\u001b[39m\u001b[38;5;241m*\u001b[39mkwds)\n\u001b[0;32m    574\u001b[0m res \u001b[38;5;241m=\u001b[39m result_to_tuple(res)\n\u001b[0;32m    575\u001b[0m res \u001b[38;5;241m=\u001b[39m _add_reduced_axes(res, reduced_axes, keepdims)\n",
      "File \u001b[1;32mc:\\Users\\fricl\\anaconda3\\envs\\ada_exam_2024\\lib\\site-packages\\scipy\\stats\\_stats_py.py:7007\u001b[0m, in \u001b[0;36mttest_ind\u001b[1;34m(a, b, axis, equal_var, nan_policy, permutations, random_state, alternative, trim)\u001b[0m\n\u001b[0;32m   7005\u001b[0m     old_errstate \u001b[38;5;241m=\u001b[39m np\u001b[38;5;241m.\u001b[39mgeterr()\n\u001b[0;32m   7006\u001b[0m     np\u001b[38;5;241m.\u001b[39mseterr(divide\u001b[38;5;241m=\u001b[39m\u001b[38;5;124m'\u001b[39m\u001b[38;5;124mignore\u001b[39m\u001b[38;5;124m'\u001b[39m, invalid\u001b[38;5;241m=\u001b[39m\u001b[38;5;124m'\u001b[39m\u001b[38;5;124mignore\u001b[39m\u001b[38;5;124m'\u001b[39m)\n\u001b[1;32m-> 7007\u001b[0m v1 \u001b[38;5;241m=\u001b[39m \u001b[43m_var\u001b[49m\u001b[43m(\u001b[49m\u001b[43ma\u001b[49m\u001b[43m,\u001b[49m\u001b[43m \u001b[49m\u001b[43maxis\u001b[49m\u001b[43m,\u001b[49m\u001b[43m \u001b[49m\u001b[43mddof\u001b[49m\u001b[38;5;241;43m=\u001b[39;49m\u001b[38;5;241;43m1\u001b[39;49m\u001b[43m)\u001b[49m\n\u001b[0;32m   7008\u001b[0m v2 \u001b[38;5;241m=\u001b[39m _var(b, axis, ddof\u001b[38;5;241m=\u001b[39m\u001b[38;5;241m1\u001b[39m)\n\u001b[0;32m   7009\u001b[0m \u001b[38;5;28;01mif\u001b[39;00m equal_var:\n",
      "File \u001b[1;32mc:\\Users\\fricl\\anaconda3\\envs\\ada_exam_2024\\lib\\site-packages\\scipy\\stats\\_stats_py.py:1111\u001b[0m, in \u001b[0;36m_var\u001b[1;34m(x, axis, ddof, mean, xp)\u001b[0m\n\u001b[0;32m   1108\u001b[0m \u001b[38;5;28;01mdef\u001b[39;00m\u001b[38;5;250m \u001b[39m\u001b[38;5;21m_var\u001b[39m(x, axis\u001b[38;5;241m=\u001b[39m\u001b[38;5;241m0\u001b[39m, ddof\u001b[38;5;241m=\u001b[39m\u001b[38;5;241m0\u001b[39m, mean\u001b[38;5;241m=\u001b[39m\u001b[38;5;28;01mNone\u001b[39;00m, xp\u001b[38;5;241m=\u001b[39m\u001b[38;5;28;01mNone\u001b[39;00m):\n\u001b[0;32m   1109\u001b[0m     \u001b[38;5;66;03m# Calculate variance of sample, warning if precision is lost\u001b[39;00m\n\u001b[0;32m   1110\u001b[0m     xp \u001b[38;5;241m=\u001b[39m array_namespace(x) \u001b[38;5;28;01mif\u001b[39;00m xp \u001b[38;5;129;01mis\u001b[39;00m \u001b[38;5;28;01mNone\u001b[39;00m \u001b[38;5;28;01melse\u001b[39;00m xp\n\u001b[1;32m-> 1111\u001b[0m     var \u001b[38;5;241m=\u001b[39m \u001b[43m_moment\u001b[49m\u001b[43m(\u001b[49m\u001b[43mx\u001b[49m\u001b[43m,\u001b[49m\u001b[43m \u001b[49m\u001b[38;5;241;43m2\u001b[39;49m\u001b[43m,\u001b[49m\u001b[43m \u001b[49m\u001b[43maxis\u001b[49m\u001b[43m,\u001b[49m\u001b[43m \u001b[49m\u001b[43mmean\u001b[49m\u001b[38;5;241;43m=\u001b[39;49m\u001b[43mmean\u001b[49m\u001b[43m,\u001b[49m\u001b[43m \u001b[49m\u001b[43mxp\u001b[49m\u001b[38;5;241;43m=\u001b[39;49m\u001b[43mxp\u001b[49m\u001b[43m)\u001b[49m\n\u001b[0;32m   1112\u001b[0m     \u001b[38;5;28;01mif\u001b[39;00m ddof \u001b[38;5;241m!=\u001b[39m \u001b[38;5;241m0\u001b[39m:\n\u001b[0;32m   1113\u001b[0m         n \u001b[38;5;241m=\u001b[39m x\u001b[38;5;241m.\u001b[39mshape[axis] \u001b[38;5;28;01mif\u001b[39;00m axis \u001b[38;5;129;01mis\u001b[39;00m \u001b[38;5;129;01mnot\u001b[39;00m \u001b[38;5;28;01mNone\u001b[39;00m \u001b[38;5;28;01melse\u001b[39;00m x\u001b[38;5;241m.\u001b[39msize\n",
      "File \u001b[1;32mc:\\Users\\fricl\\anaconda3\\envs\\ada_exam_2024\\lib\\site-packages\\scipy\\stats\\_stats_py.py:1081\u001b[0m, in \u001b[0;36m_moment\u001b[1;34m(a, order, axis, mean, xp)\u001b[0m\n\u001b[0;32m   1078\u001b[0m mean \u001b[38;5;241m=\u001b[39m mean[()] \u001b[38;5;28;01mif\u001b[39;00m mean\u001b[38;5;241m.\u001b[39mndim \u001b[38;5;241m==\u001b[39m \u001b[38;5;241m0\u001b[39m \u001b[38;5;28;01melse\u001b[39;00m mean\n\u001b[0;32m   1079\u001b[0m a_zero_mean \u001b[38;5;241m=\u001b[39m a \u001b[38;5;241m-\u001b[39m mean\n\u001b[1;32m-> 1081\u001b[0m eps \u001b[38;5;241m=\u001b[39m \u001b[43mxp\u001b[49m\u001b[38;5;241;43m.\u001b[39;49m\u001b[43mfinfo\u001b[49m\u001b[43m(\u001b[49m\u001b[43mdtype\u001b[49m\u001b[43m)\u001b[49m\u001b[38;5;241m.\u001b[39meps \u001b[38;5;241m*\u001b[39m \u001b[38;5;241m10\u001b[39m\n\u001b[0;32m   1083\u001b[0m \u001b[38;5;28;01mwith\u001b[39;00m np\u001b[38;5;241m.\u001b[39merrstate(divide\u001b[38;5;241m=\u001b[39m\u001b[38;5;124m'\u001b[39m\u001b[38;5;124mignore\u001b[39m\u001b[38;5;124m'\u001b[39m, invalid\u001b[38;5;241m=\u001b[39m\u001b[38;5;124m'\u001b[39m\u001b[38;5;124mignore\u001b[39m\u001b[38;5;124m'\u001b[39m):\n\u001b[0;32m   1084\u001b[0m     rel_diff \u001b[38;5;241m=\u001b[39m xp\u001b[38;5;241m.\u001b[39mmax(xp\u001b[38;5;241m.\u001b[39mabs(a_zero_mean), axis\u001b[38;5;241m=\u001b[39maxis,\n\u001b[0;32m   1085\u001b[0m                       keepdims\u001b[38;5;241m=\u001b[39m\u001b[38;5;28;01mTrue\u001b[39;00m) \u001b[38;5;241m/\u001b[39m xp\u001b[38;5;241m.\u001b[39mabs(mean)\n",
      "File \u001b[1;32mc:\\Users\\fricl\\anaconda3\\envs\\ada_exam_2024\\lib\\site-packages\\numpy\\core\\getlimits.py:516\u001b[0m, in \u001b[0;36mfinfo.__new__\u001b[1;34m(cls, dtype)\u001b[0m\n\u001b[0;32m    514\u001b[0m     dtype \u001b[38;5;241m=\u001b[39m newdtype\n\u001b[0;32m    515\u001b[0m \u001b[38;5;28;01mif\u001b[39;00m \u001b[38;5;129;01mnot\u001b[39;00m \u001b[38;5;28missubclass\u001b[39m(dtype, numeric\u001b[38;5;241m.\u001b[39minexact):\n\u001b[1;32m--> 516\u001b[0m     \u001b[38;5;28;01mraise\u001b[39;00m \u001b[38;5;167;01mValueError\u001b[39;00m(\u001b[38;5;124m\"\u001b[39m\u001b[38;5;124mdata type \u001b[39m\u001b[38;5;132;01m%r\u001b[39;00m\u001b[38;5;124m not inexact\u001b[39m\u001b[38;5;124m\"\u001b[39m \u001b[38;5;241m%\u001b[39m (dtype))\n\u001b[0;32m    517\u001b[0m obj \u001b[38;5;241m=\u001b[39m \u001b[38;5;28mcls\u001b[39m\u001b[38;5;241m.\u001b[39m_finfo_cache\u001b[38;5;241m.\u001b[39mget(dtype)\n\u001b[0;32m    518\u001b[0m \u001b[38;5;28;01mif\u001b[39;00m obj \u001b[38;5;129;01mis\u001b[39;00m \u001b[38;5;129;01mnot\u001b[39;00m \u001b[38;5;28;01mNone\u001b[39;00m:\n",
      "\u001b[1;31mValueError\u001b[0m: data type <class 'numpy.object_'> not inexact"
     ]
    }
   ],
   "source": [
    "stats.ttest_ind(df_year_authors[df_year_authors['year'] > 2000]['num_authors'], df_year_authors[df_year_authors['year'] < 2000]['num_authors'], alternative='greater')"
   ]
  },
  {
   "cell_type": "markdown",
   "metadata": {},
   "source": [
    "**3.4 (6 pts)**: Build a Co-Author Network\n",
    "\n",
    "Co-author networks help us visualize and quantify collaborations in academia. Such networks are critical for identifying influential researchers and their role in fostering connections within their communities. Construct a network where nodes represent authors and edges represent collaborations.\n",
    "\n",
    "#### Instructions:\n",
    "- Create a graph where: (5 pts)\n",
    "  - Nodes: Each node represents a unique author, identified by their name in the authors field of the dataset.\n",
    "  - Edges: There is an edge between two nodes if the corresponding authors have co-authored at least one paper. The weight of the edge represents the number of papers the two authors have co-authored together.\n",
    "- After constructing the network, print the following information: (1 pt)\n",
    "  - The total number of nodes (authors) in the network.\n",
    "  - The total number of edges (collaborations) in the network.\n",
    "\n",
    "Example:\n",
    "\n",
    "For a paper authored by [\"Alice\", \"Bob\", \"Charlie\"], the graph should include:\n",
    "- Nodes: Alice, Bob, Charlie.\n",
    "- Edges: Alice-Bob, Alice-Charlie, Bob-Charlie, each with a weight of 1 (assuming no other collaborations between these pairs).\n"
   ]
  },
  {
   "cell_type": "code",
   "execution_count": 313,
   "metadata": {},
   "outputs": [
    {
     "name": "stdout",
     "output_type": "stream",
     "text": [
      "Graph with 505027 nodes and 1137185 edges\n"
     ]
    }
   ],
   "source": [
    "import itertools\n",
    "from collections import Counter\n",
    "from tqdm import tqdm\n",
    "\n",
    "co_occurrences = []\n",
    "for el in df['authors']:\n",
    "    co_occurrences.append(list(itertools.combinations(el, 2)))\n",
    "\n",
    "co_occurrences = list(itertools.chain(*co_occurrences))\n",
    "count_co_occurrences = dict(Counter(co_occurrences))\n",
    "count_co_occurrences\n",
    "\n",
    "graph_constr = [(k[0], k[1], v) for k, v in count_co_occurrences.items()]\n",
    "\n",
    "G1 = nx.Graph()\n",
    "G1.add_weighted_edges_from(graph_constr, weight='weight')\n",
    "\n",
    "print(G1)"
   ]
  },
  {
   "cell_type": "markdown",
   "metadata": {},
   "source": [
    "**3.5 (4 pts)**: Analyze the Co-Author Network\n",
    "\n",
    "Connected components in a co-author network can reveal isolated research communities or dominant research hubs. Analyzing the largest component helps us understand the core of academic collaboration\n",
    "\n",
    "#### Instructions:\n",
    "- The degree of a node is the number of edges connected to it. In the context of the co-author network, this represents the number of distinct co-authors an author has collaborated with. Compute the average degree of the network (1 pt).\n",
    "- Connectivity of the Network:\n",
    "  - A network is fully connected if there is a path between every pair of nodes. Determine if the co-author network is fully connected (2 pt). (Hint: A single answer is not enough here. You need to use a method to verify the connectivity of the network.)\n",
    "  - Can you tell how many authors are part of the largest connected component? How much does this account for the total number of authors in the network? (2 pt)\n",
    "<!-- - Compute the average clustering coefficient of the network. -->"
   ]
  },
  {
   "cell_type": "code",
   "execution_count": 314,
   "metadata": {},
   "outputs": [
    {
     "name": "stdout",
     "output_type": "stream",
     "text": [
      "2.25 average node degree\n"
     ]
    }
   ],
   "source": [
    "avg_degree = G1.number_of_edges() / G1.number_of_nodes()\n",
    "print(f\"{round(avg_degree, 2)} average node degree\")"
   ]
  },
  {
   "cell_type": "code",
   "execution_count": 315,
   "metadata": {},
   "outputs": [
    {
     "name": "stdout",
     "output_type": "stream",
     "text": [
      "Graph with 505027 nodes and 1137185 edges\n",
      "Graph is not connected\n",
      "Diameter and Avg shortest path length are not defined!\n",
      "Sparsity: 0.0000\n",
      "Global clustering coefficient aka Transitivity: 0.1422\n"
     ]
    }
   ],
   "source": [
    "def describe_graph(G):\n",
    "    print(G)\n",
    "    if nx.is_connected(G):\n",
    "        print(\"Avg. Shortest Path Length: %.4f\" %nx.average_shortest_path_length(G))\n",
    "        print(\"Diameter: %.4f\" %nx.diameter(G)) # Longest shortest path\n",
    "    else:\n",
    "        print(\"Graph is not connected\")\n",
    "        print(\"Diameter and Avg shortest path length are not defined!\")\n",
    "    print(\"Sparsity: %.4f\" %nx.density(G))  # #edges/#edges-complete-graph\n",
    "    # #closed-triplets(3*#triangles)/#all-triplets\n",
    "    print(\"Global clustering coefficient aka Transitivity: %.4f\" %nx.transitivity(G))\n",
    "\n",
    "describe_graph(G1)"
   ]
  },
  {
   "cell_type": "markdown",
   "metadata": {},
   "source": [
    "We see that the the network is not connected. Indeed, the diameter (i.e. longest shortest path) and shortest path length are not defined!"
   ]
  },
  {
   "cell_type": "code",
   "execution_count": 316,
   "metadata": {},
   "outputs": [
    {
     "name": "stdout",
     "output_type": "stream",
     "text": [
      "# nodes in largest connected component: 342738\n",
      "--> this represents 68% of all authors in the network\n",
      "# nodes in largest connected component: 948805\n"
     ]
    }
   ],
   "source": [
    "largest_cc = max(nx.connected_components(G1), key=len) # take longest weakly connected component! \n",
    "H = G1.subgraph(largest_cc)\n",
    "print(f\"# nodes in largest connected component: {H.number_of_nodes()}\")\n",
    "print(f\"--> this represents {round(H.number_of_nodes() / G1.number_of_nodes() * 100)}% of all authors in the network\")\n",
    "print(f\"# nodes in largest connected component: {H.number_of_edges()}\")"
   ]
  },
  {
   "cell_type": "markdown",
   "metadata": {},
   "source": [
    "**3.6 (4 pts)**: Top Authors by Collaborations\n",
    "\n",
    "#### Instructions:\n",
    "- Get the degree for all nodes in the network and print the top 10 authors by degree (1 pt) (Note: some entries (e.g., \"II,\" \"III,\" \"Jr.\") may not represent real authors due to data quality issues. Please keep them in the list and don't do any cleaning.)\n",
    "- A high degree  indicates that an author has collaborated with many other authors. However, it does not consider if the collaborations happen multiple times between the same authors. A weighted degree would be a better measure to consider the number of collaborations between authors. Get the top 10 authors by weighted degree. P.S. The weighted degree is the sum of the weights of the edges connected to the node. (1 pt)\n",
    "- Which two authors have the highest number of collaborations? How many papers have they co-authored together? (2 pt)"
   ]
  },
  {
   "cell_type": "code",
   "execution_count": 317,
   "metadata": {},
   "outputs": [
    {
     "name": "stdout",
     "output_type": "stream",
     "text": [
      "Top 10 authors by degree:\n"
     ]
    },
    {
     "data": {
      "text/plain": [
       "[' Jr.',\n",
       " ' III',\n",
       " ' II',\n",
       " 'Wei Wang',\n",
       " 'Ming Li',\n",
       " 'Wei Li',\n",
       " 'Lei Zhang',\n",
       " 'Elisa Bertino',\n",
       " 'Hector Garcia-Molina',\n",
       " 'Yan Zhang']"
      ]
     },
     "execution_count": 317,
     "metadata": {},
     "output_type": "execute_result"
    }
   ],
   "source": [
    "degrees = dict(G1.degree())\n",
    "sorted_degrees = sorted(degrees.items(), key=lambda x:x[1], reverse=True)\n",
    "\n",
    "top_authors = sorted_degrees[:10]\n",
    "print(\"Top 10 authors by degree:\")\n",
    "[top_authors[i][0] for i in range(len(top_authors))]"
   ]
  },
  {
   "cell_type": "code",
   "execution_count": 318,
   "metadata": {},
   "outputs": [
    {
     "name": "stdout",
     "output_type": "stream",
     "text": [
      "Top 10 authors by degree:\n"
     ]
    },
    {
     "data": {
      "text/plain": [
       "[' Jr.',\n",
       " ' III',\n",
       " ' II',\n",
       " 'Wei Wang',\n",
       " 'Philip S. Yu',\n",
       " 'Elisa Bertino',\n",
       " 'Ming Li',\n",
       " 'Hector Garcia-Molina',\n",
       " 'Ben Shneiderman',\n",
       " 'Ron Kikinis']"
      ]
     },
     "execution_count": 318,
     "metadata": {},
     "output_type": "execute_result"
    }
   ],
   "source": [
    "degrees = dict(G1.degree(weight='weight'))\n",
    "sorted_degrees = sorted(degrees.items(), key=lambda x:x[1], reverse=True)\n",
    "\n",
    "top_authors = sorted_degrees[:10]\n",
    "print(\"Top 10 authors by degree:\")\n",
    "[top_authors[i][0] for i in range(len(top_authors))]"
   ]
  },
  {
   "cell_type": "code",
   "execution_count": 319,
   "metadata": {},
   "outputs": [
    {
     "data": {
      "text/plain": [
       "(('Gary B. Shelly', 'Thomas J. Cashman'), 154)"
      ]
     },
     "execution_count": 319,
     "metadata": {},
     "output_type": "execute_result"
    }
   ],
   "source": [
    "most_colabs = sorted(count_co_occurrences.items(), key=lambda x:x[1], reverse=True)[0]\n",
    "most_colabs"
   ]
  },
  {
   "cell_type": "markdown",
   "metadata": {},
   "source": [
    "**3.7 (4 pts)**: Analyze the reference/citation information \n",
    "\n",
    "Understanding the citation patterns of papers helps reveal their academic impact and how knowledge propagates through the research community. In this task, you will analyze the reference and citation relationships within the dataset.\n",
    "\n",
    "First, let's create a citation network where:\n",
    "- Nodes: Each node represents a unique paper, identified by its id in the dataset.\n",
    "- Edges: There is an edge from paper A to paper B if paper A cites paper B. \n",
    "\n",
    "\n",
    "#### Instructions:\n",
    "- **Discuss:** Is it reasonable that the citation network contains cycles?  What would a cycle( not self loop) in the citation network represent? (2 pt)\n",
    "- Which paper has the highest number of citations? How many papers cite this paper? (1 pt)\n",
    "- Which paper has the highest number of references? How many papers does this paper cite? (1 pt)\n"
   ]
  },
  {
   "cell_type": "code",
   "execution_count": 320,
   "metadata": {},
   "outputs": [
    {
     "data": {
      "text/plain": [
       "{0: 'Automated Deduction in Geometry: 5th International Workshop, ADG 2004, Gainesville, FL, USA, September 16-18, 2004, Revised Papers (Lecture Notes in Computer ... / Lecture Notes in Artificial Intelligence)',\n",
       " 1: 'A+ Certification Core Hardware (Text & Lab Manual)',\n",
       " 2: 'Performance engineering in industry: current practices and adoption challenges',\n",
       " 3: 'Dude, You Can Do It! How to Build a Sweeet PC',\n",
       " 4: 'What Every Programmer Needs to Know about Security (Advances in Information Security)',\n",
       " 5: 'Interpreting Kullback-Leibler divergence with the Neyman-Pearson lemma',\n",
       " 6: 'Digital Media: Transformations in Human Communication',\n",
       " 7: 'TOPP---the OpenMS proteomics pipeline',\n",
       " 8: 'Type Graphics and MacIntosh',\n",
       " 9: 'Adaptive Hypermedia and Adaptive Web-Based Systems: 4th International Conference, AH 2006, Dublin, Ireland, June 21-23, 2006, Proceedings (Lecture Notes in Computer Science)',\n",
       " 10: 'Dependable Computing: Second Latin-American Symposium, LADC 2005, Salvador, Brazil, October 25-28, 2005, Proceedings (Lecture Notes in Computer Science)',\n",
       " 11: 'Calculus Early Transcendentals Single Variable',\n",
       " 12: 'Webbots, Spiders, and Screen Scrapers',\n",
       " 13: 'Fast k-NN Classification Rule Using Metrics on Space-Filling Curves',\n",
       " 14: 'Making the Digital City: The Early Shaping of Urban Internet Space (Design & the Built Environment S.)',\n",
       " 15: 'Linspire 5.0: The No Nonsense Guide! (No Nonsense Guide! series)',\n",
       " 16: 'Podcasting for Profit: A Proven 10-Step Plan for Generating Income Through Audio and Video Podcasting',\n",
       " 17: 'Approximating fluid schedules in crossbar packet-switches and Banyan networks',\n",
       " 18: 'Federated Identity Management And Web Services Security With IBM Tivoli Security Solutions',\n",
       " 19: 'Start with a Digital Camera (Special Edition) (2nd Edition) (Start with a)',\n",
       " 20: 'Open Process Frameworks: Patterns for the Adaptive e-Enterprise (Practitioners)',\n",
       " 21: 'Fast and Efficient Context-Aware Services (Wiley Series on Communications Networking & Distributed Systems)',\n",
       " 22: 'Multimedia Directory 1997',\n",
       " 23: 'ASIS&T Thesaurus of Information Science, Technology, And Librarianship (Asist Monograph Series)',\n",
       " 24: 'On product covering in 3-tier supply chain models: natural complete problems for W[3] and W[4]',\n",
       " 25: 'Inside SQL Server 2005 Tools (Microsoft Windows Server System Series)',\n",
       " 26: \"Electronic Engineer's Handbook (Core Handbook CD-ROMs)\",\n",
       " 27: 'Call of Duty 2: Big Red One(tm) Official Strategy Guide (Official Strategy Guides)',\n",
       " 28: 'Inside Microsoft Dynamics AX 4.0',\n",
       " 29: 'Wiley Plus/Web CT Stand-alone to accompany Java Concepts (Wiley Plus Products)',\n",
       " 30: 'Modeling methodology b: distributed simulation and the high level architecture',\n",
       " 31: 'Beginning Ruby on Rails (Wrox Beginning Guides)',\n",
       " 32: 'Introduction to Information Systems',\n",
       " 33: 'SUSE Linux Enterprise Server Administration (Course 3037)',\n",
       " 34: 'Hyperstat: Macintosh Hypermedia for Analyzing Data and Learning Statistics',\n",
       " 35: 'An Integrative Modelling Approach for Simulation and Analysis of Adaptive Agents',\n",
       " 36: 'Notes from industry',\n",
       " 37: 'A New Quadtree Decomposition Reconstruction Method',\n",
       " 38: 'Computer Accounting with QuickBooks 2006',\n",
       " 39: 'Program Evaluation: Improving The Flow Of Information To The Congress',\n",
       " 40: 'Jocelyn Robert: Aucune de mes mains ne fait mal',\n",
       " 41: 'Microprogramming for the hardware engineer',\n",
       " 42: 'Special Edition Using Adobe Creative Suite 2 (Special Edition Using)',\n",
       " 43: 'At Ease With Performa',\n",
       " 44: 'Guia Visual de Microsoft Office 2000/ Microsoft Office 2000 Visual Guide (Guias Visuales)',\n",
       " 45: 'Microsoft Expression Web: Visual QuickStart Guide',\n",
       " 46: 'Fast Track: Linux Apache Web Server & Workstation Management',\n",
       " 47: 'TCP/IP Protocol Suite, 3 edition',\n",
       " 48: \"Conker's Bad Fur Day (Prima's Official Strategy Guide)\",\n",
       " 49: 'A control word model for detecting conflicts between microoperations',\n",
       " 50: 'Exploring Macintosh Concepts in Visually Oriented Computing & Computing Concepts for End Users',\n",
       " 51: 'KeyChamp 2.0 Macintosh Site License Package',\n",
       " 52: 'Word Processing on Your MacIntosh',\n",
       " 53: 'Class-specific feature polynomial classifier for pattern classification and its application to handwritten numeral recognition',\n",
       " 54: 'F.E.A.R.: First Encounter Assault Recon (Prima Official Game Guide)',\n",
       " 55: 'Effects of reward expectancy on sequential eye movements in monkeys',\n",
       " 56: 'A method to compute distance between two categorical values of same attribute in unsupervised learning for categorical data set',\n",
       " 57: 'ExamInsight For MCP / MCSE Certification: Installing, Configuring, and Administering Microsoft Windows XP Professional Exam 70-270 (ExamInsight)',\n",
       " 58: 'Computer Models of Musical Creativity',\n",
       " 59: 'Computer Concepts Illustrated Complete, Sixth Edition (Illustrated (Thompson Learning))',\n",
       " 60: 'Tips and Tuning Guide for MS Flight Simulator 2000',\n",
       " 61: 'Windows Vista All-in-One Desk Reference For Dummies (For Dummies (Computer/Tech))',\n",
       " 62: 'Review of \"Bit-Slice Microprocessor Design by John Mick and James Brick\", McGraw-Hill Book Company, 1980',\n",
       " 63: \"DV Filmmaking: From Start to Finish (O'Reilly Digital Studio)\",\n",
       " 64: 'Ibook Fan Book: Smart and Beautiful to Boot (Ibook Fan Books)',\n",
       " 65: 'GO Series: Microsoft Excel 2003 Volume 2 (Go With Microsoft Office)',\n",
       " 66: 'Data Structures',\n",
       " 67: 'Hands-On Guide to Video Blogging and Podcasting: Emerging Media Tools for Business Communication (Hands-on Guide)',\n",
       " 68: 'Mage Knight(tm): Apocalypse Official Strategy Guide (Official Strategy Guides)',\n",
       " 69: 'ECDL Advanced',\n",
       " 70: 'The Effect of Faults on Network Expansion',\n",
       " 71: 'Database Modeling in Biology: Practices and Challenges',\n",
       " 72: 'Microsoft Word 2003 Advanced',\n",
       " 73: 'Adaptive Multimedia Retrieval: First International Workshop, AMR 2003, Hamburg, Germany, September 15-16, 2003, Revised Selected and Invited Papers (Lecture Notes in Computer Science)',\n",
       " 74: 'Mesoscopic simulation of Ostwald ripening',\n",
       " 75: 'Gungrave: 2006 Wall Calendar',\n",
       " 76: 'Gurus, Hired Guns, and Warm Bodies: Itinerant Experts in a Knowledge Economy',\n",
       " 77: 'Selected Areas in Cryptography: 12th International Workshop, SAC 2005, Kingston, ON, Canada, August 11-12, 2005, Revised Selected Papers (Lecture Notes in Computer Science)',\n",
       " 78: 'The Prentice Hall Planner for Student Success',\n",
       " 79: 'Design team composition for high level language computer architectures',\n",
       " 80: 'Keno Winner: A Guide To Winning At Video Keno',\n",
       " 81: 'Real World Aperture (Real World)',\n",
       " 82: 'Making Projects Critical (Management, Work and Organisations)',\n",
       " 83: 'The Internet: A Critical Introduction',\n",
       " 84: \"It's a Mad, Mad, Mad, Mad Mac/Book and Disk\",\n",
       " 85: 'Java for Everyone',\n",
       " 86: 'Three-Level Caching for Efficient Query Processing in Large Web Search Engines',\n",
       " 87: 'Essentials for Design Adobe Illustrator CS 2 - Level 1 (2nd Edition) (Essentials for Design)',\n",
       " 88: 'Operations Research: Macintosh Version (Business Statistics Series)',\n",
       " 89: 'Creative Code: Ästhetik und Programmierung am MIT Media Lab',\n",
       " 90: \"The Game Producer's Handbook\",\n",
       " 91: 'Visual Basic 2005 Demystified, 1 edition',\n",
       " 92: 'Oracle 10g PL/SQL: Guia de Consulta Rápida',\n",
       " 93: 'CompTIA A+ Exam Cram (Exams 220-602, 220-603, 220-604) (Exam Cram)',\n",
       " 94: 'On an initial transient deletion rule with rigorous theoretical support',\n",
       " 95: 'Microsoft Powerpoint 2003 (Marquee Series)',\n",
       " 96: 'MICAI 2006: Advances in Artificial Intelligence: 5th Mexican International Conference on Artificial IntelligenceApizaco, Mexico, November 13-17, 2006Proceedings (Lecture Notes in Computer Science)',\n",
       " 97: \"Tarski's World 3.0: Including the Macintosh TM Program (Center for the Study of Language and Information - Lecture Notes)\",\n",
       " 98: 'Special issue: Dialog systems for health communications',\n",
       " 99: 'Internet and HTML Training on CD-ROM',\n",
       " 100: \"Elsevier's Dictionary of Wild and Cultivated Plants\",\n",
       " 101: 'Physics for Game Developers',\n",
       " 102: 'The MacIntosh Bible Guide to System 7/the MacIntosh Bible',\n",
       " 103: 'Encore Dvd (Diseno Y Creatividad)',\n",
       " 104: 'History of Wireless',\n",
       " 105: \"Embedded Software and Systems: Second International Conference, ICESS 2005, Xi'an, China, December 16-18, 2005, Proceedings (Lecture Notes in Computer Science)\",\n",
       " 106: 'Security and Embedded Systems: Volume 2 NATO Security through Science Series: Information and Communication Security (Nato Security Through Science)',\n",
       " 107: 'Strategic Management',\n",
       " 108: \"C++ Cookbook (Cookbooks (O'Reilly))\",\n",
       " 109: 'Pro Tools 5 CSi Master (Csi Master)',\n",
       " 110: 'Medical image segmentation, volume representation and registration using spheres in the geometric algebra framework',\n",
       " 111: 'Bulletproof Ajax (Voices That Matter)',\n",
       " 112: 'On simultaneous confidence intervals for all contrasts in the means of the intraclass correlation model with missing data',\n",
       " 113: 'Exploiting web browsing histories to identify user needs',\n",
       " 114: 'GO! with Microsoft Office 2003 Advanced (Go Series for Microsoft Office 2003)',\n",
       " 115: 'Traffic Management in IP-Based Communications',\n",
       " 116: 'Photo Idea Index',\n",
       " 117: 'Operating Systems Concepts',\n",
       " 118: 'Game Theory And Applications',\n",
       " 119: 'C++ and Object Oriented Programming Paradigm',\n",
       " 120: 'Similarity Analysis for Shape Retrieval by Example',\n",
       " 121: 'Fundamentos de Programacion',\n",
       " 122: 'Special issues on the second workshop on embedded system education (WESE)',\n",
       " 123: 'Job Scheduling Strategies for Parallel Processing: 11th International Workshop, JSSPP 2005, Cambridge, MA, USA, June 19, 2005, Revised Selected Papers (Lecture Notes in Computer Science)',\n",
       " 124: 'Simulation education: improving simulation course content',\n",
       " 125: 'Bipolar possibility theory in preference modeling: Representation, fusion and optimal solutions',\n",
       " 126: 'Neural Networks',\n",
       " 127: 'Particle-in-cell method for parallel dynamics in magnetized electron plasmas: study of high-amplitude BGK modes',\n",
       " 128: 'Wiley Plus/Web CT Stand-alone to accompany Dicho y hecho: Beginning Spanish, Seventh Edition (Student Text with CD-ROM Package) (Wiley Plus Products)',\n",
       " 129: 'Atari Classic Arcades Millipede (Snap! Everyday Solutions)',\n",
       " 130: 'Develop Microsoft.NET Applications for the iSeries (Visual Studio 2005)',\n",
       " 131: 'Military applications: military analysis II',\n",
       " 132: 'MS SQL Server 2005: Developing Client/Server Applications',\n",
       " 133: 'Introduction to Graphics Communications for Engineers with Autodesk Inventor Software 06-07 (B.E.S.T. Series) (Basic Engineering Series and Tools)',\n",
       " 134: 'Finite Programming in C++',\n",
       " 135: 'Simulation with Arena (McGraw-Hill Series in Industrial Engineering and Management)',\n",
       " 136: \"Who's in Charge Here?: The Tangled Web of School Governance And Policy\",\n",
       " 137: 'TAIT Essentials 2003 V2.3 Valuepack OneKey Package',\n",
       " 138: 'Cd-Roms in Print: An International Guide to Cd-Rom, Cd-I, 3Do, Mmcd, Cd32, Multimedia and Electronic Products (CD-Roms in Print)',\n",
       " 139: 'Verilog for Digital Design',\n",
       " 140: \"Make a Million from Online Poker: The Surefire Way to Profit from the Internet's Coolest Game\",\n",
       " 141: 'Advances in XML Information Retrieval and Evaluation: 4th International Workshop of the Initiative for the Evaluation of XML Retrieval, INEX 2005, Dagstuhl ... Papers (Lecture Notes in Computer Science)',\n",
       " 142: 'PSP Hacks, Mods, and Expansions',\n",
       " 143: 'Watching Words Move',\n",
       " 144: 'Windows and Mirrors: Interaction Design, Digital Art, and the Myth of Transparency (Leonardo Books)',\n",
       " 145: 'Reasoning about ACL2 file input',\n",
       " 146: 'On the order of accuracy for difference approximations of initial-boundary value problems',\n",
       " 147: 'Wireless Networks For Dummies',\n",
       " 148: 'Guia Avan Redes Priv. Virtuales / Linux',\n",
       " 149: 'Structured Programming with ANSI C (Structured Programming S.)',\n",
       " 150: 'Seguridad En Wifi',\n",
       " 151: \"Myst (Value Series): Prima's Official Strategy Guide\",\n",
       " 152: 'Health care: utilizing health resources',\n",
       " 153: 'Best Ever Bible Activity Worksheets On CD-ROM',\n",
       " 154: 'Introduction to Mathematical Programming: Applications and Algorithms',\n",
       " 155: 'Personal Wireless Communications: IFIP TC6 11th International Conference, PWC 2006, Albacete, Spain, September 20-22, 2006, Proceedings (Lecture Notes in Computer Science)',\n",
       " 156: 'Exploring Microsoft Office Access 2007 Comprehensive 1/e (Exploring Series)',\n",
       " 157: 'MCSE Self-Paced Training Kit (Exam 70-297): Designing a Microsoft Windows Server 2003 Active Directory and Network Infrastructure',\n",
       " 158: 'Controlling simulation games through rule-based scenarios',\n",
       " 159: 'mental ray for Maya, 3ds max, and XSI',\n",
       " 160: 'Autocad Pocket Reference',\n",
       " 161: 'The Advantage Series: Microsoft Office Word 2003, Brief Edition, 1 edition',\n",
       " 162: 'Canis Canem Edit Signature Series Guide',\n",
       " 163: 'Guide to Internet Programming with Sockets',\n",
       " 164: 'Learning Computer Fundamentals, MS Office, Internet, and Web Technology',\n",
       " 165: \"Hbj's Macprep for the Sat: Macintosh/User Manual & 3 128K Diskettes (Hbj Computer Test Preparation Series)\",\n",
       " 166: \"Tony Hawk's Pro Skater 2x Official Strategy Guide\",\n",
       " 167: 'System Analysis and Modeling: 4th International SDL and MSC Workshop, SAM 2004, Ottawa, Canada, June 1-4, 2004, Revised Selected Papers (Lecture Notes in Computer Science)',\n",
       " 168: \"Syphon Filter (Prima's Official Strategy Guide)\",\n",
       " 169: 'Fusionplex: resolution of data inconsistencies in the integration of heterogeneous information sources',\n",
       " 170: 'Instant Surround Sound Audio',\n",
       " 171: 'Game Theory for Wireless Engineers (Synthesis Lectures on Communications)',\n",
       " 172: 'How to Do Just about Anything in Microsoft Excel',\n",
       " 173: 'Principles of Foundation Engineering',\n",
       " 174: 'CCSP: Complete Study Guide (642-501, 642-511, 642-521, 642-531, 642-541)',\n",
       " 175: 'Maran Illustrated Jewelry and Beading',\n",
       " 176: 'The Comprehensive NCLEX-RN Review',\n",
       " 177: 'New Trends in Software Process Modelling (Software Engineering and Knowledge Engineering) (Series on Software Engineering and Knowledge Engineering)',\n",
       " 178: 'Information Security And Employee Behaviour: How to Reduce Risk Through Employee Education, Training And Awareness',\n",
       " 179: 'Recent Advances in Intrusion Detection: 6th International Symposium, RAID 2003, Pittsburgh, PA, USA, September 8-10, 2003, Proceedings (Lecture Notes in Computer Science)',\n",
       " 180: 'Conference on numerical methods for constrained optimization',\n",
       " 181: 'The Definitive Guide to the Microsoft Enterprise Library',\n",
       " 182: 'GIS for Environmental Management',\n",
       " 183: 'Future Hype: The Myths of Technology Change',\n",
       " 184: 'Microsoft Project',\n",
       " 185: 'NIV Study Bible Complete Library for Windows, The',\n",
       " 186: '3-D Tutor: The Complete 3-D Starter Kit Macintosh Edition/Boxed Cd-Rom',\n",
       " 187: 'PC World, August 2006 Issue',\n",
       " 188: 'A mixture of experts committee machine to design compensators for intensity modulated radiation therapy',\n",
       " 189: 'Indie Fonts 2: A Compendium of Digital Type from Independent Foundries',\n",
       " 190: 'Java Concepts',\n",
       " 191: 'Graph Algrithms And Applications 4',\n",
       " 192: 'A Framework for Adaptive Wavelet Prediction in Self-Sizing Networks',\n",
       " 193: 'World Religions Reference Library Primary Sources (World Religions Reference Library)',\n",
       " 194: 'Analysis and Design of Pipeline Analog-to-Digital Converters',\n",
       " 195: 'The Legend of Zelda - Twilight Princess (GameCube Version) (Prima Authorized Game Guide)',\n",
       " 196: 'Soft Methodology and Random Information Systems (Advances in Soft Computing)',\n",
       " 197: 'Personal Wireless Communications: IFIP TC6 9th International Conference, PWC 2004, Delft, The Netherlands, September 21-23, 2004, Proceedings (Lecture Notes in Computer Science)',\n",
       " 198: 'Becoming a virtual organism to learn about genetics',\n",
       " 199: 'Fireworks 8',\n",
       " 200: 'The Comprehensive NCLEX-PN Review on CD-ROM',\n",
       " 201: 'Problems and Solutions of Operating Systems',\n",
       " 202: 'Student S/G Criminal Law',\n",
       " 203: 'Special Edition Using Microsoft Office Word 2003',\n",
       " 204: 'Photoshop CS2 for the Web Essential Training',\n",
       " 205: 'Issues And Trends in Technology And Human Interaction (Advances in Technology and Human Interaction Series) (Advances in Technology and Human Interaction Series)',\n",
       " 206: 'Master Data Management and Customer Data Integration for a Global Enterprise, 1 edition',\n",
       " 207: 'Secret Codes 2007 (Secret Codes)',\n",
       " 208: 'CD-Rom Data Banks in Germany: A Strategic Entry Report, 1997 (Strategic Planning Series)',\n",
       " 209: 'Data Structures in Java: From Abstract Data Types to the Java Collections Framework',\n",
       " 210: 'Understanding Coverbal Ionic Gestures in Shape Descriptions',\n",
       " 211: 'Computer Security And Telerobotics for Everyone',\n",
       " 212: 'A Practical Introduction to Microsoft Office XP (BP)',\n",
       " 213: \"RPG Maker 2 (Prima's Official Strategy Guide)\",\n",
       " 214: 'Microsoft Works 2.0: Easy Reference Guide/Macintosh',\n",
       " 215: 'Over-the-Road Wireless For Dummies (For Dummies (Computer/Tech))',\n",
       " 216: 'Problem Solving and Program Design in C (5th Edition)',\n",
       " 217: 'Poser 7 Revealed: The efrontier Official Guide',\n",
       " 218: 'A Mathematical Treatment of Economic Cooperation and Competition Among Nations, with Nigeria, USA, UK, China, and the Middle East Examples, Volume 203 (Mathematics in Science and Engineering)',\n",
       " 219: 'Microsoft Word 2002 Basics',\n",
       " 220: 'Macromedia Director Design Guide/Book and Cd-Rom for Windows',\n",
       " 221: 'Passive and Active Network Measurement: 6th International Workshop, PAM 2005, Boston, MA, USA, March 31 - April 1, 2005, Proceedings (Lecture Notes in Computer Science)',\n",
       " 222: 'Cinema 4D 10 Handbook',\n",
       " 223: 'Data Mining',\n",
       " 224: 'CCNA Exam Cram 2 (2nd Edition) (Exam Cram 2)',\n",
       " 225: 'ALP: Efficient support for all levels of parallelism for complex media applications',\n",
       " 226: 'The iPod & iTunes Pocket Guide (Secrets of...)',\n",
       " 227: 'Hybrid Estimation of Complex Systems (Lecture Notes in Control and Information Sciences)',\n",
       " 228: 'What the Dormouse Said: How the Sixties Counterculture Shaped the Personal Computer Industry',\n",
       " 229: 'Cost-Benefit Analysis And Evolutionary Computing: Optimal Scheduling of Interactive Road Projects (Transport Economics, Management and Policy)',\n",
       " 230: 'Accuracy study of the IDO scheme by Fourier analysis',\n",
       " 231: 'Special issue dedicated to Professor Yasunori Fujikoshi',\n",
       " 232: 'World Trade Organization (Wto) Trade Policy Review 1998 Cd (1995 - 1997',\n",
       " 233: 'Over the Hedge Official Strategy Guide (Official Strategy Guides (Bradygames))',\n",
       " 234: 'Symmetry breaking ordering constraints: Thesis',\n",
       " 235: \"Programming Microsoft Infopath: A Developer's Guide (Programming Series)\",\n",
       " 236: 'Crafting a Compiler',\n",
       " 237: 'Object-Oriented PHP: Concepts, Techniques, and Code',\n",
       " 238: 'New Perspectives on Microsoft Office Excel 2003, Brief, CourseCard Edition (New Perspectives)',\n",
       " 239: 'SuSe Linux 9.0 Adminsitration Guide',\n",
       " 240: 'Analysis methodology a: selection procedures I',\n",
       " 241: 'Incremental window-based protein sequence alignment algorithms',\n",
       " 242: 'Maximum PC Guide to Extreme PC Mods (Maximum PC Guide To...)',\n",
       " 243: 'Keynote for Mac OS X (Visual QuickStart Guide)',\n",
       " 244: 'Microsoft Office XP,Enhanced Edition Illustrated Introductory (Illustrated)',\n",
       " 245: \"Rosenbrock-type 'Peer' two-step methods\",\n",
       " 246: 'Simulation-based scheduling: simulation-based scheduling III',\n",
       " 247: 'Digital Camcorder Technique',\n",
       " 248: 'Autodesk Revit 7.0 Basics: Architectural Modeling and Documentation',\n",
       " 249: 'Firmware/hardware support for operating systems: principles and selected history',\n",
       " 250: 'Science and Engineering Programs for the Macintosh',\n",
       " 251: 'Netzwerke Fur Dummies (Fur Dummies S.)',\n",
       " 252: 'A+ Practice Questions Exam Cram (Exams 220-401, 220-402) (2nd Edition) (Exam Cram 2)',\n",
       " 253: 'Advances in Knowledge Discovery and Data Mining: 8th Pacific-Asia Conference, PAKDD 2004, Sydney, Australia, May 26-28, 2004, Proceedings (Lecture Notes ... / Lecture Notes in Artificial Intelligence)',\n",
       " 254: 'Design to Sell: Use Microsoft Publisher to Plan, Write and Design Great Marketing Pieces (Bpg-Other)',\n",
       " 255: 'Military applications: military aerospace application',\n",
       " 256: 'Discrete-event simulation of queues with spreadsheets: a teaching case',\n",
       " 257: 'Security and Protection in Information Processing Systems (IFIP International Federation for Information Processing)',\n",
       " 258: 'A new class of coherent risk measures based on p-norms and their applications: Research Articles',\n",
       " 259: 'Efficient approximate planning in continuous space Markovian Decision Problems',\n",
       " 260: 'Programming in Visual Basic.Net',\n",
       " 261: 'Secrets For Selling On Ebay For Big Profits',\n",
       " 262: \"Thief Gold: Prima's Official Strategy Guide\",\n",
       " 263: 'Expertise Out of Context: Proceedings of the Sixth International Conference on Naturalistic Decision Making (Expertise: Research and Applications Series)',\n",
       " 264: 'PHP e MySQL: Desenvolvimento Web',\n",
       " 265: 'Dreamweaver 8: The Missing Manual',\n",
       " 266: 'An exploration of the categories associated with ICT project sustainability in rural areas of developing countries: a case study of the Dwesa project',\n",
       " 267: 'MRP Rescheduling heuristics with capacity extension under deterministic demand',\n",
       " 268: 'Computer Simulations in Condensed Matter Systems: From Materials to Chemical Biology. Volume 2 (Lecture Notes in Physics)',\n",
       " 269: 'Congo for Macintosh',\n",
       " 270: 'Digital Signal and Image Processing Using MATLAB (Digital Signal and Image Processing series)',\n",
       " 271: 'Fotografia Digital Avanzada/ Perfect Digital Photography (Diseno Y Creatividad / Design and Creativity)',\n",
       " 272: 'Official QuarkXPress Handbook (Macintosh 3.3 ed): Mac 3.3 ed',\n",
       " 273: 'Wiley Cpa Examination Review Practice Software 8.0: Complete Exam : Accounting and Reporting, Auditing, Business Law and Professional Responsibilities, Financial Accounting and Reporting',\n",
       " 274: 'Large area micro hot embossing of Pyrex glass with GC mold machined by dicing',\n",
       " 275: 'A hybrid approach for fabrication of polymeric BIOMEMS devices',\n",
       " 276: 'Basics Design: Print and Finish (Basics Design)',\n",
       " 277: 'If Elephants Wore Trousers',\n",
       " 278: 'Agency and the Semantic Web',\n",
       " 279: 'The Essential Online Solution: The 5-Step Formula for Small Business Success',\n",
       " 280: 'Handbook of Image and Video Processing (Communications, Networking and Multimedia)',\n",
       " 281: 'Star Wars Battlefront II (Prima Official Game Guide)',\n",
       " 282: 'Protected systems in general systems theory',\n",
       " 283: 'Using Xml: A How-to-do-it Manual for Librarians',\n",
       " 284: 'Apple Computer Resources in Special Education and Rehabilitation',\n",
       " 285: 'Introduction to Computational Science: Modeling and Simulation for the Sciences',\n",
       " 286: 'PCs in Easy Steps (In Easy Steps)',\n",
       " 287: 'The Complete Guide to Flex 2 with ActionScript 3.0',\n",
       " 288: 'Advanced Visual Basic.NET: Programming Web and Desktop Applications in ADO.NET and ASP.NET',\n",
       " 289: 'Performance Evaluation of Packet Processing Architectures Using Multiclass Queuing Networks',\n",
       " 290: 'Authenticating mobile phone users using keystroke analysis',\n",
       " 291: 'Introduction to SQL: Mastering the Relational Database Language (4th Edition)',\n",
       " 292: 'LabSim For A+ Core Hardware',\n",
       " 293: 'Rise of Nations: Rise of Legends (Prima Official Game Guide)',\n",
       " 294: 'The iPod Book: Doing Cool Stuff with the iPod and the iTunes Music Store',\n",
       " 295: \"Hangin' With the Hombeez: Goldstinger (Hangin' with the Hombeez)\",\n",
       " 296: 'Analysis of affect expressed through the evolving language of online communication',\n",
       " 297: \"Dragon Ball Z: The Legacy of Goku II (Prima's Official Strategy Guide)\",\n",
       " 298: 'Module-based modeling of production-distribution systems considering shipment consolidation',\n",
       " 299: 'A New Scheme to Realize the Optimum Watermark Detection for the Additive Embedding Scheme with the Spatial Domain',\n",
       " 300: 'Dynamic HTML: The Definitive Reference (Dynamic Html)',\n",
       " 301: 'Large triangles in the d-dimensional unit cube',\n",
       " 302: 'Linear work suffix array construction',\n",
       " 303: 'Battlefield 2142 (Prima Official Game Guide)',\n",
       " 304: 'Visual Basic Game Programming For Teens',\n",
       " 305: 'EXPINT---A MATLAB package for exponential integrators',\n",
       " 306: 'The Complete Guide to Digital Imaging',\n",
       " 307: 'Federal Income Tax: An Interactive Transactional Approach',\n",
       " 308: 'Build Your Own Standards Compliant Website Using Dreamweaver 8 (Build Your Own)',\n",
       " 309: 'Game Console Hacking: Having Fun While Voiding Your Warranty',\n",
       " 310: 'The Elements of Visual Style: The Basics of Print Design for Every PC and Mac User',\n",
       " 311: 'Tall Order! Seven Master Strategies to Organize Your Life and Double Your Success in Half the Time',\n",
       " 312: 'ActionScript 2.0 Language Reference for Macromedia Flash 8',\n",
       " 313: 'Macintosh System 7.5 for Dummies Quick Reference',\n",
       " 314: 'Hacking iSeries',\n",
       " 315: 'An Identity-Based Key Management Framework for Personal Networks',\n",
       " 316: 'Applications in Macintosh (AIM)',\n",
       " 317: 'Entertainment Computing - ICEC 2005: 4th International Conference, Sanda, Japan, September 19-21, 2005, Proceedings (Lecture Notes in Computer Science)',\n",
       " 318: 'Stochastic Analysis of Scale-Space Smoothing',\n",
       " 319: 'Facility Planning',\n",
       " 320: 'Data Communications and Network Security, 1 edition',\n",
       " 321: 'Virtual Worlds of Precision: Computer-based Simulations in the Sciences and Social Sciences Methods, Vol. 1 (Methoden)',\n",
       " 322: 'Object-Oriented Design with UML and Java',\n",
       " 323: 'Towards a New Evolutionary Computation: Advances on Estimation of Distribution Algorithms (Studies in Fuzziness and Soft Computing)',\n",
       " 324: 'The AMA Handbook of Project Management',\n",
       " 325: 'A Guide To Web Development Using Macromedia Dreamweaver MX 2004: With Firework, Flash, and Coldfusion',\n",
       " 326: 'High-Performance Energy-Efficient Microprocessor Design (Series on Integrated Circuits and Systems)',\n",
       " 327: 'I5/Os V5r4 Virtual Tape: A Guide to Planning And Implementation',\n",
       " 328: 'Exploring Microsoft Office 2003 Enhanced Edition (Grauer Exploring Office 2003 Series)',\n",
       " 329: 'METRIC: Memory tracing via dynamic binary rewriting to identify cache inefficiencies',\n",
       " 330: 'Accelerated VB 2005',\n",
       " 331: 'Exercise Workbook for Advanced Autocad 2006: 180-day Learning Bundle Edition',\n",
       " 332: 'Essential Renderman',\n",
       " 333: 'Visual FoxPro 6 Guia Practica',\n",
       " 334: 'Provision of agent-based health care services',\n",
       " 335: \"Silver Surfers' Color Guide to the Internet\",\n",
       " 336: 'Computational systems biology: keynote I: software in systems biology',\n",
       " 337: 'Master Ms Word 4.0',\n",
       " 338: 'Connected, or What It Means to Live in the Network Society',\n",
       " 339: 'Implementing Database Security and Auditing: Includes Examples for Oracle, SQL Server, DB2 UDB, Sybase',\n",
       " 340: 'Macintosh Fx: Tools and Techniques for Outrageous Graphic Effects',\n",
       " 341: 'Index It Right!: Advice from the Experts',\n",
       " 342: 'Optimization in Public Transportation: Stop Location, Delay Management and Tariff Zone Design in a Public Transportation Network (Springer Optimization and Its Applications)',\n",
       " 343: 'The CodeFez Guide to SQL Server Reporting Services',\n",
       " 344: 'PowerPoint 2003: Top 100 Simplified Tips & Tricks (Top 100 Simplified Tips & Tricks)',\n",
       " 345: 'Finite horizon analysis of Markov Chains with the Mur&#x03d5; verifier',\n",
       " 346: 'Sequence-driven features for prediction of subcellular localization of proteins',\n",
       " 347: 'Calendar',\n",
       " 348: \"Access 2003 Personal Trainer (Personal Trainer (O'Reilly))\",\n",
       " 349: 'Modeling centralized organization of organizational change',\n",
       " 350: 'Macromedia Director 5 VTC Training CD',\n",
       " 351: 'PHP-Nuke - Mastering Internet Content Management: From Start to Optimised Use - With a Complete and Quick Reference of Internal Functions',\n",
       " 352: 'Learning MySQL',\n",
       " 353: 'Best Career And Education Web Sites: A Quick Guide to Online Job Search (Best Career & Education Websites)',\n",
       " 354: 'And Your Point Is?',\n",
       " 355: 'ONCOR: ontology- and evidence-based context reasoner',\n",
       " 356: 'Path-based control of smoke simulations',\n",
       " 357: 'Interoperability of Enterprise Software and Applications',\n",
       " 358: 'CourseGuide: Microsoft Office Word 2003 Illustrated, INTERMEDIATE',\n",
       " 359: 'High-Speed Networks and Multimedia Communications: 6th IEEE International Conference HSNMC 2003, Estoril, Portugal, July 23-25, 2003, Proceedings (Lecture Notes in Computer Science)',\n",
       " 360: 'Superpad 64 Gold',\n",
       " 361: 'Mega Man ZX Official Strategy Guide (Official Strategy Guides (Bradygames))',\n",
       " 362: 'Let Us C Solutions',\n",
       " 363: 'Breath of Fire: Dragon Quarter Official Strategy Guide',\n",
       " 364: 'Editorial board and publication information',\n",
       " 365: 'VLSI-SOC: From Systems to Chips: IFIP TC 10/WG 10.5, Twelfth International Conference on Very Large Scale Ingegration of System on Chip (VLSI-SoC 2003), ... Federation for Information Processing)',\n",
       " 366: 'Duke Nukem Zero Hour: Official Strategy Guide',\n",
       " 367: 'Excel 2007 Data Analysis For Dummies (For Dummies (Computer/Tech))',\n",
       " 368: 'The Washingtonienne: A Novel',\n",
       " 369: 'Microsoft Office v.X Macintosh BASICS (Basics)',\n",
       " 370: 'Pro Tools 101 Official Courseware',\n",
       " 371: 'Migrating to Websphere Message Broker Version 6.0',\n",
       " 372: '8051 Microcontroller and Embedded Systems, The (2nd Edition)',\n",
       " 373: 'Spss for the Macintosh: Operations Guide',\n",
       " 374: 'Component composition preserving behavioral contracts based on communication traces',\n",
       " 375: \"Digital Video Hacks (O'Reilly's Hacks Series)\",\n",
       " 376: 'F1 Get the Most Out of Excel Formulas & Functions: The Ultimate Excel Formulas & Functions Help Guide',\n",
       " 377: 'COMPUTATIONAL CHEMISTRY: Reviews of Current Trends',\n",
       " 378: 'K-menu: a keyword-based dynamic menu interface for small computers',\n",
       " 379: 'An optimization-based approach for QoS routing in high-bandwidth networks',\n",
       " 380: 'Texture Fusion and Classification Based on Flexible Discriminant Analysis',\n",
       " 381: 'Managing Without Walls: Maximize Success with Virtual, Global, and Cross-cultural Teams',\n",
       " 382: 'Enterprise integration using the agent paradigm: foundations of multi-agent-based integrative business information systems',\n",
       " 383: 'Calendar',\n",
       " 384: 'Konstruieren von Pkw-Karosserien: Grundlagen, Elemente und Baugruppen, Vorschriftenübersicht, Beispiele mit CATIA V4 und V5 (VDI-Buch)',\n",
       " 385: 'Discovery Science: 7th International Conference, DS 2004, Padova, Italy, October 2-5, 2004. Proceedings (Lecture Notes in Computer Science / Lecture Notes in Artificial Intelligence)',\n",
       " 386: \"Advanced Digital Logic Design Using VHDL, State Machines, and Synthesis for FPGA's\",\n",
       " 387: 'Flash 5 (Guias Practicas)',\n",
       " 388: 'Current Topics in Artificial Intelligence: 11th Conference of the Spanish Association for Artificial Intelligence, CAEPIA 2005, Santiago de Compostela, ... Papers (Lecture Notes in Computer Science)',\n",
       " 389: 'Computers and Technology in a Changing Society (Text Only)',\n",
       " 390: 'VISSIM: a multi-parameter sensitivity analysis',\n",
       " 391: 'Instructors Manual',\n",
       " 392: 'Web Information Systems Engineering - WISE 2005: 6th International Conference on Web Information Systems Engineering, New York, NY, USA, November 20-22, ... (Lecture Notes in Computer Science)',\n",
       " 393: 'Final Fantasy XII Signature Series Guide',\n",
       " 394: 'Mobile and Wireless Communications',\n",
       " 395: 'Microsoft Works 3, Macintosh (Visual QuickStart Guide)',\n",
       " 396: 'Macworld Ref: Pagemaker (Macworld Ref Series)',\n",
       " 397: 'Hacking del.icio.us (ExtremeTech)',\n",
       " 398: 'The Reference Collection: From The Shelf to The Web',\n",
       " 399: 'Language model information retrieval with document expansion',\n",
       " 400: 'Microsoft Office Access 2007 On Demand',\n",
       " 401: 'Exploring Office XP Enhanced Edition, Vol. 2',\n",
       " 402: 'Experiences of high school students conducting term paper research using filtered Internet access -- Dissertation',\n",
       " 403: 'Jak X: Combat Racing (with DVD) (Prima Official Game Guide)',\n",
       " 404: 'Sams Teach Yourself Windows XP All in One (2nd Edition) (Sams Teach Yourself)',\n",
       " 405: 'Word 2003 Visual Basic Programming',\n",
       " 406: 'Energy-efficient wireless sensor network design and implementation for condition-based maintenance',\n",
       " 407: 'Observed structure of addresses in IP traffic',\n",
       " 408: 'Computer Evidence',\n",
       " 409: 'The Art of Quicktime: Making Movies With Your Macintosh/Book and Disk',\n",
       " 410: 'A MANET simulation tool to study algorithms for generating propagation maps',\n",
       " 411: 'The Getaway: Black Monday (Prima Official Game Guide)',\n",
       " 412: 'Broadcasting, Cable, the Internet and Beyond: An Introduction to Electronic Media',\n",
       " 413: 'Microsoft Word 2003 Essentials - Advanced on DVD-ROM',\n",
       " 414: 'Active EM to reduce noise in activity recognition',\n",
       " 415: \"SAS/ACCESS 9.1 Interface To Peoplesoft: User's Guide\",\n",
       " 416: 'C. Algoritmos, Programacion y Estructura de Datos',\n",
       " 417: 'Comparative Evaluation of Multilingual Information Access Systems: 4th Workshop of the Cross-Language Evaluation Forum, CLEF 2003, Trondheim, Norway, August ... Papers (Lecture Notes in Computer Science)',\n",
       " 418: 'Exploring 3d Animation With 3ds Max 8',\n",
       " 419: 'Early aspects, models and design',\n",
       " 420: 'Discrete-Event Simulation: A First Course',\n",
       " 421: 'Cambridge Checkpoints VCE IT Applications 2007 (Cambridge Checkpoints)',\n",
       " 422: 'Human Aspects of Software Engineering',\n",
       " 423: 'DBMS Complete Practical Approach',\n",
       " 424: 'Perspectives on Free and Open Source Software',\n",
       " 425: 'The Synchronized Production System: Going Beyond Just-In-Time Through Kaizen',\n",
       " 426: 'Subdivision schemes',\n",
       " 427: 'Illustrator CS2 for Windows & Macintosh (Visual QuickStart Guide)',\n",
       " 428: 'Essentials for Design: Adobe Illustrator CS2, Level 1- W/CD',\n",
       " 429: 'Analysis methodology a: selection procedures II',\n",
       " 430: 'Performance engineering for EA systems in next generation data centresPerformance engineering for EA systems in next generation data centres',\n",
       " 431: 'Product Lifecycle Management: Ein Leitfaden für Product Development und Life Cycle Management',\n",
       " 432: 'Wireless Sensor Networks: Technology, Protocols, and Applications',\n",
       " 433: 'Microstation V8 for Autocad Users',\n",
       " 434: 'Voice over IP Fundamentals (2nd Edition) (Fundamentals)',\n",
       " 435: 'Microsoft Windows Vista Illustrated Essentials',\n",
       " 436: 'Practical Business Intelligence with SQL Server 2005 (Microsoft Windows Server System Series)',\n",
       " 437: 'Device drivers',\n",
       " 438: 'Machinations (Ultima: The Technocrat War, Book 1)',\n",
       " 439: 'Planning Using Primavera SureTrak Project Manager Version 3.0: With Updated Workshop',\n",
       " 440: 'Re-parameterisation technique in algebraic numerical grid generation via subdivision schemes',\n",
       " 441: 'A Holistic Approach to a Reliable Infrastructure for Sap R/3 on Aix',\n",
       " 442: 'Adobe Acrobat 8 Classroom in a Book',\n",
       " 443: 'Crazy Colour Card for Microsoft Word',\n",
       " 444: 'Illustrating with Micromedia Flash MX 2004',\n",
       " 445: 'Data Structures Using C Lab Workbook',\n",
       " 446: 'Fabrication of a polymeric tapered HARMs array utilizing a low-cost nickel electroplated mold insert',\n",
       " 447: 'Multiuser interior design over the internet',\n",
       " 448: 'Splinter Cell: Double Agent (Prima Official Game Guide)',\n",
       " 449: 'The Heinle & Heinle Toefl: English Test Preparation Software : Macintosh Individual Version',\n",
       " 450: 'Coreldraw 12 (Guias Practicas)',\n",
       " 451: 'Windows Server 2003 MCSE Exam 70-290 Video Training - on DVD-ROM',\n",
       " 452: 'A fast finite-state relaxation method for enforcing global constraints on sequence decoding',\n",
       " 453: 'The Choice Guide to Web Writing That Works',\n",
       " 454: 'Word 2002 Microsoft Office Specialist Level 2 with CD (Level 2)',\n",
       " 455: 'Oracle Performance Tuning for 10gR2, Second Edition',\n",
       " 456: 'Security',\n",
       " 457: 'Efficient Computation of a Reflection Symmetry Measure for Convex Polygons Based on Minkowski Addition',\n",
       " 458: 'Thompson Engineering Guide to Web Research',\n",
       " 459: 'Guest Editorial: Special Issue on Bioinformatics',\n",
       " 460: 'Microsoft Word 2003',\n",
       " 461: 'Oxford School Atlas',\n",
       " 462: 'Easy PC Security and Safety',\n",
       " 463: 'The Magic of Digital Close-Up Photography (A Lark Photography Book)',\n",
       " 464: 'Diseno Animado Interactivo En 3d/3d Interactive Animated Design (Diseno Y Creatividad)',\n",
       " 465: 'Brilliant Excel 2003',\n",
       " 466: 'Blackberry Hacks',\n",
       " 467: 'Disaster Report',\n",
       " 468: 'Current Issues And Trends in E-government Research (Advances in Electronic Government Research)',\n",
       " 469: 'Extending WHIRL with background knowledge for improved text classification',\n",
       " 470: '3ds Max 5 (La Biblia De)',\n",
       " 471: 'Multi-user Synchronisation in ad hoc OFDM-based Wireless Personal Area Networks',\n",
       " 472: 'Teach Yourself VISUALLY Excel 2003 (Visual Read Less -- Learn More)',\n",
       " 473: 'High-Performance Training of Conditional Random Fields for Large-Scale Applications of Labeling Sequence Data',\n",
       " 474: 'The Ultimate Code Book, 2000 Edition - Revised & Expanded for TRU (Prima Games)',\n",
       " 475: 'Oracle 10g Programming: A Primer',\n",
       " 476: 'Advanced Technology in the Pacific Northwest 2004-2005',\n",
       " 477: 'An approach to ontology-aided performance engineering through NFR framework',\n",
       " 478: \"The Lawyer's Guide to Fact Finding on the Internet, Third Edition\",\n",
       " 479: 'Urban and Regional Technology Planning: Planning Practice in the Global Knowledge Economy',\n",
       " 480: 'Human Interaction with Machines: Proceedings of the 6th International Workshop held at the Shanghai JiaoTong University, March 15-16, 2005',\n",
       " 481: 'Enhancing business process management with simulation optimization',\n",
       " 482: \"The Gadget Geek's Guide to Your Sony PlayStation Portable (The Gadget Geek's Guides)\",\n",
       " 483: 'Fun and Games on Your PC',\n",
       " 484: 'Clinical Decision Support: The Road Ahead',\n",
       " 485: 'Digital Multimedia Perception and Design',\n",
       " 486: 'Fighting for Time: Shifting Boundaries of Work and Social Life',\n",
       " 487: 'Paying with Plastic, 2nd Edition: The Digital Revolution in Buying and Borrowing',\n",
       " 488: 'A Comprehensive Guide to Digital Black & White Photography (Digital Photography)',\n",
       " 489: 'Condemned: Criminal Origins (Prima Official Game Guide)',\n",
       " 490: 'IBM Bladecenter 4gb San Solution',\n",
       " 491: \"2007/8 Guide to Association Web Sites: For Recruiters and Job Seekers (Weddle's Guide to Association Web Sites: For Recruiters & Job Seeker)\",\n",
       " 492: 'Vectorized image segmentation via trixel agglomeration',\n",
       " 493: 'Finding FUN in FUsioN-XXIII',\n",
       " 494: 'Observations on determinization of Büchi automata',\n",
       " 495: 'Machine Learning: ECML 2005: 16th European Conference on Machine Learning, Porto, Portugal, October 3-7, 2005, Proceedings (Lecture Notes in Computer Science ... / Lecture Notes in Artificial Intelligence)',\n",
       " 496: 'Incorporating speaker and discourse features into speech summarization',\n",
       " 497: 'Data representations and generalization error in kernel based learning machines',\n",
       " 498: 'OCP: Oracle 10g Administration II Study Guide: Exam 1Z0-043',\n",
       " 499: 'Student de-charter notice',\n",
       " 500: 'Exposure and Lighting for Digital Photographers Only',\n",
       " 501: 'Photoshop Cs2. Avanzado',\n",
       " 502: 'Bias correction of cross-validation criterion based on Kullback-Leibler information under a general condition',\n",
       " 503: \"Two's-complement multiplication\",\n",
       " 504: 'Lightweight natural language text compression',\n",
       " 505: 'Modeling tuberculosis in areas of high HIV prevalence',\n",
       " 506: 'Innovative Approaches for Learning and Knowledge Sharing: First European Conference on Technology Enhanced Learning, EC-TEL 2006, Crete, Greece, October ... (Lecture Notes in Computer Science)',\n",
       " 507: 'Network Security and Ethical Hacking',\n",
       " 508: 'Outlook 2003 in Easy Steps (In Easy Steps S.)',\n",
       " 509: 'Mechassault 2: Lone Wolf (Prima Official Game Guide)',\n",
       " 510: 'Dictionary of Information Science And Technology',\n",
       " 511: 'AGScan: a pluggable microarray image quantification software based on the ImageJ library',\n",
       " 512: 'ILT Series Microsoft Office Excel 2003, Basic w/ 2 CDs',\n",
       " 513: 'Ableton Live 5 Tips and Tricks',\n",
       " 514: 'Intelligent Computing in Engineering and Architecture: 13th EG-ICE Workshop 2006, Ascona, Switzerland, June 25-30, 2006, Revised Selected Papers (Lecture Notes in Computer Science)',\n",
       " 515: 'Editorial: Similarity-based pattern recognition',\n",
       " 516: 'Windows XP Step-By-Step',\n",
       " 517: 'Medications - A Medical Dictionary, Bibliography, and Annotated Research Guide to Internet References',\n",
       " 518: 'Information Security Management Handbook on CD-ROM, 2006 Edition',\n",
       " 519: \"Topics in Cryptology -- CT-RSA 2006: The Cryptographers' Track at the RSA Conference 2006, San Jose, CA, USA, February 13-17, 2005, Proceedings (Lecture Notes in Computer Science)\",\n",
       " 520: \"Tomb Raider: The Last Revelation (UK) (Prima's Official Strategy Guide)\",\n",
       " 521: 'Beyond Cut, Copy and Paste: Dig Deeper into the World of Microsoft Word, Excel and Powerpoint',\n",
       " 522: 'Emerging Wireless Multimedia: Services and Technologies',\n",
       " 523: 'Software performance in the real world: personal lessons from the performance trauma team',\n",
       " 524: 'Grey-level hit-or-miss transforms-Part I: Unified theory',\n",
       " 525: 'Toward HW/SW integration: a networked embedded system course in Taiwan',\n",
       " 526: 'Massively Multiplayer Online Role-Playing Games: The People, the Addiction and the Playing Experience',\n",
       " 527: 'Planning For The Fiber Distributed Data Interface',\n",
       " 528: 'Human bodies',\n",
       " 529: 'Assessment of transport infrastructure projects by the use of Monte Carlo simulation: the CBA-DK model',\n",
       " 530: 'Unique Resources for Food and Nutrition: Guide to Good Food Recipe Multimedia Cd',\n",
       " 531: 'Microsoft Office OneNote 2003: Introductory Concepts and Techniques',\n",
       " 532: 'Pcs for Dummies (Thorndike Health, Home & Learning)',\n",
       " 533: 'PMP: Project Management Professional Study Guide, Deluxe Edition',\n",
       " 534: 'Rapid and Brief Communication: GACV: Geodesic-Aided C-V method',\n",
       " 535: 'Parallel Processing and Applied Mathematics: 6th International Conference, PPAM 2005Poznan, Poland, September 11-14, 2005 Revised Selected Papers (Lecture Notes in Computer Science)',\n",
       " 536: 'Easy Office 2003',\n",
       " 537: 'Marketing Research: The Impact of the Internet',\n",
       " 538: 'The Lord of the Rings: The Battle for Middle-earth II (Xbox 360) (Prima Official Game Guide)',\n",
       " 539: 'Pac-Man World(tm) 3 Official Strategy Guide (Official Strategy Guides (Bradygames))',\n",
       " 540: 'Directory of Special Libraries and Information Centers: Geographic and Personnel Index (Directory of Special Libraries and Information Centers Vol 2)',\n",
       " 541: 'Labview(TM) 7.0 Express Student Edition with 7.1 Update',\n",
       " 542: 'Subject Retrieval in a Networked World: Proceedings of the Ifla Satellite Meeting Held in Dublin, Oh, 14-16 August 2001 and Sponsored by the Ifla Classification ... the (Ubcim Publications New Series Vol 25)',\n",
       " 543: \"Milady's Standard Comprehension Training for Estheticians Workbook\",\n",
       " 544: 'Learning Series (DDC): Learning Microsoft Office Publisher 2003 (DDC Learning)',\n",
       " 545: 'Project Management',\n",
       " 546: 'Game Programming for Teens (Game Programming)',\n",
       " 547: 'Storybook Weaver: MacIntosh/Book and Disk/Hmc 21835',\n",
       " 548: 'Maran Illustrated Sudoku (Maran Illustrated)',\n",
       " 549: 'Why Relevant Features May Be Unuseful in Statistical Recognition of Two Classes',\n",
       " 550: 'Adobe Premiere Pro for Dummies',\n",
       " 551: 'Refinement Techniques in Software Engineering: First Pernambuco Summer School on Software Engineering, PSSE 2004Recife, Brazil, November 23-December 5, ... Lectures (Lecture Notes in Computer Science)',\n",
       " 552: 'Microsoft Office for Teachers (2nd Edition)',\n",
       " 553: 'A UML profile for dependability analysis of real-time embedded systems',\n",
       " 554: 'Microsoft Project 2002 and 2003 (Microsoft Official Academic Course)',\n",
       " 555: 'The Debian System: Concepts and Techniques',\n",
       " 556: 'User Interfaces in the Real World',\n",
       " 557: 'After Effects 5 (Diseno Y Creatividad)',\n",
       " 558: 'Quick Start Publishing Music Online (Quick Start (Music Sales))',\n",
       " 559: 'Ant Colony Optimization and Swarm Intelligence: 5th International Workshop, ANTS 2006, Brussels, Belgium, September 4-7, 2006, Proceedings (Lecture Notes in Computer Science)',\n",
       " 560: 'Analysing User Needs And Early Design',\n",
       " 561: 'Directory of Special Libraries and Information Centers (Directory of Special Libraries and Information Centers Vol 1)',\n",
       " 562: 'Create Electronic Presentations Powerpoint 2003',\n",
       " 563: 'Introductory Korn Shell Programming',\n",
       " 564: \"Lemony Snicket's A Series of Unfortunate Events Official Strategy Guide\",\n",
       " 565: 'Windows Admin Scripting (Little Black Books (Paraglyph Press))',\n",
       " 566: 'PSpice for Linear Circuits (uses PSpice version 10)',\n",
       " 567: 'A Review of Statistical Approaches to Level Set Segmentation: Integrating Color, Texture, Motion and Shape',\n",
       " 568: 'Peachtree Complete 2006, Release 13.0 CD-ROM (Stand Alone)',\n",
       " 569: 'Training Guide Microsoft Excel 2002',\n",
       " 570: 'Window Seat: The Art of Digital Photography & Creative Thinking',\n",
       " 571: 'Microsoft Visual C# .Net',\n",
       " 572: 'Flying Fox: Applying Visual FoxPro Reporting to Any Data, in Any Environment',\n",
       " 573: 'Easy PowerPoint 2003',\n",
       " 574: 'Walk to here: a voice driven animation system',\n",
       " 575: 'Informational logic in knowledge representation and automated deduction',\n",
       " 576: 'Book Description',\n",
       " 577: 'Using RFID technologies to capture simulation data in a hospital emergency department',\n",
       " 578: 'Welcome To Microsoft Excel 2003 (Sliver Series)',\n",
       " 579: 'A Real-Time CAM-Based Hough Transform Algorithm and Its Performance Evaluation',\n",
       " 580: 'CompTIA Network+ Self-Study Guide (2nd Edition)',\n",
       " 581: 'Essentials Enhanced Office XP Text, Fourth Edition',\n",
       " 582: \"Barron's AP Computer Science, 2007-2008: Levels A and AB (Barron's How to Prepare for the Ap Computer Science Advanced Placement Examination)\",\n",
       " 583: 'Friendly Macintosh (Friendly Computer Books)',\n",
       " 584: 'ASP.Net 2.0 Black Book (Black Book (Paraglyph Press))',\n",
       " 585: 'Treffpunkt Deutsch: Elementary German (5th Edition)',\n",
       " 586: 'Creating E-Portfolios Using PowerPoint: A Guide for Educators',\n",
       " 587: 'Complexity at large',\n",
       " 588: 'Hacker, 2006 (La Biblia De / the Bible of...)',\n",
       " 589: 'Riding the Helix Express',\n",
       " 590: 'Spyware',\n",
       " 591: 'Extended Prelude to Programming (3rd Edition)',\n",
       " 592: 'Toward harnessing user feedback for machine learning',\n",
       " 593: 'Fotografia Digital 2003 (Diseno Y Creatividad)',\n",
       " 594: 'Machine learning algorithms for spatial data analysis and modelling',\n",
       " 595: 'Access 2002 (Manuales Avanzados)',\n",
       " 596: '2004 4th Workshop on Applications and Services in Wireless Networks (Aswn): Boston, Ma, 9-11 August, 2004.',\n",
       " 597: 'Applying Formal Methods: Testing, Performance, and M/E-Commerce: FORTE 2004 Workshops The FormEMC, EPEW, ITM, Toledo, Spain, October 1-2, 2004 (Lecture Notes in Computer Science)',\n",
       " 598: 'How to Do Everything with Microsoft Office 2003, 1 edition',\n",
       " 599: 'BIOS Disassembly Ninjutsu Uncovered (Uncovered series)',\n",
       " 600: 'Konzepte siliziumbasierter MOS-Bauelemente (Halbleiter-Elektronik)',\n",
       " 601: \"Toy Commander (UK) (Prima's Official Strategy Guide)\",\n",
       " 602: \"Quantitative studies on the organizational structure of SME's: a case study of the pharmaceutical industry in China\",\n",
       " 603: 'Using Java method traces to automatically characterize and model J2EE server applications',\n",
       " 604: 'Special issue: Computational intelligence and information technology applications to industrial engineering selected papers from the 33 rd ICC&IE',\n",
       " 605: 'Autonomous Intelligent Systems: Agents and Data Mining: International Workshop, AIS-ADM 2005 (Lecture Notes in Computer Science / Lecture Notes in Artificial Intelligence)',\n",
       " 606: 'Advancing Knowledge and the Knowledge Economy',\n",
       " 607: 'Teach Yourself VISUALLY Macromedia Dreamweaver 8 (Teach Yourself Visually)',\n",
       " 608: \"Dawn of the eBay Deadbeats: True Tales of Treachery, Lies, and Fraud from the Dark Recesses of the World's Largest Online Auction Marketplace\",\n",
       " 609: 'Design Guidelines For A Monitoring Environment Concerning Distributed Real-time Systems',\n",
       " 610: 'Gerenciando Projetos Via Web com o Microsoft Project Server 2002',\n",
       " 611: 'Strategic Budgeting: A Computer Program for Strategic Budgeting and Performance Assessment',\n",
       " 612: 'PHP & MySQL: Your visual blueprint for creating dynamic, database-driven Web sites (Visual Read Less, Learn More)',\n",
       " 613: 'Master VISUALLY Office 2003 (Master Visually)',\n",
       " 614: 'Solving Problems with Excel',\n",
       " 615: 'A domain-specific language for model coupling',\n",
       " 616: \"Pokemon Stadium 2: Prima's Official Strategy Guide\",\n",
       " 617: 'Data Structures Through C in Depth',\n",
       " 618: 'Problem Solving in Chemical and Biochemical Engineering with POLYMATH, Excel, and MATLAB (2nd Edition) (Prentice Hall International Series in the Physical and Chemi)',\n",
       " 619: 'Solutions Manual for Programming Language Fundamentals by Example',\n",
       " 620: 'Operating Systems',\n",
       " 621: '1001 Computer Hints and Tips',\n",
       " 622: 'Director Multimedia Studio: Macromedia Shockwave : Official Macromedia Training (Macromedia Interactive Series)',\n",
       " 623: 'The IBM Totalstorage Ds8000: Copy Services With IBM Z',\n",
       " 624: 'Master Guide for Glamour Photography: Digital Techniques and Images',\n",
       " 625: 'Flash Memory Technologies: A Comprehensive Guide to Understanding and Using Flash Memory Devices (IEEE Press Series on Microelectronic Systems)',\n",
       " 626: 'Aimready',\n",
       " 627: 'Maximum PC 2006 Guide to Building a Dream PC',\n",
       " 628: 'Signposts in Cyberspace: The Domain Name System And Internet Navigation',\n",
       " 629: 'Bundle Companion Microsoft Office 4.3 for the Macintosh Professional',\n",
       " 630: 'Introducing & Implementing Autodesk Revit Building',\n",
       " 631: 'Applications of Process Algebra (Cambridge Tracts in Theoretical Computer Science)',\n",
       " 632: 'Exploring Brief Office XP',\n",
       " 633: \"SOULCALIBUR III Official Fighter's Guide (Signature)\",\n",
       " 634: 'Ubuntu Hacks: Tips & Tools for Exploring, Using, and Tuning Linux (Hacks)',\n",
       " 635: 'MCTS SQL Server 2005 Implementation Maintenance Study Guide (Exam 70-431), 3 edition',\n",
       " 636: 'Type Selector',\n",
       " 637: 'Microsoft Office Project 2007 Inside Out',\n",
       " 638: 'Co-operative Internet Learning',\n",
       " 639: 'PC Pest Control: Protect Your Computers from Malicious Internet Invaders',\n",
       " 640: 'Java How to Program (7th Edition)',\n",
       " 641: 'The Ithaqua Cycle: The Wind-Walker of the Icy Wastes (Call of Cthulhu Fiction)',\n",
       " 642: 'Design of a shopbot and recommender system for bundle purchases',\n",
       " 643: 'Emerging Spatial Information Systems and Applications',\n",
       " 644: 'CASPAR: a hierarchical Bayesian approach to predict survival times in cancer from gene expression data',\n",
       " 645: 'SAS/ACCESS 9.1 Interface To CA-Datacom/DB: Reference',\n",
       " 646: 'Soft Computing: Methodologies and Applications (Advances in Soft Computing) (Advances in Soft Computing)',\n",
       " 647: 'ExamInsight For MCP/MCSE 70-290 Certification: Managing and Maintaining a Microsoft Windows Server 2003 Environment',\n",
       " 648: 'Unix for Dummies',\n",
       " 649: 'British Computer Society Unit E',\n",
       " 650: 'Study of domestic refining: petrochemical industry energy feedstock interactions',\n",
       " 651: 'Directory of Law-Related Cd-Roms 1998',\n",
       " 652: 'Abstracts from math programming symposium',\n",
       " 653: 'A simulation-based approach to trade-off analysis of port security',\n",
       " 654: 'Color Desktop Printer Technology (Optical Engineering)',\n",
       " 655: 'Computational Linguistics and Intelligent Text Processing: 7th International Conference, CICLing 2006, Mexico City, Mexico, February 19-25, 2006, Proceedings (Lecture Notes in Computer Science)',\n",
       " 656: 'CD-ROM Finder',\n",
       " 657: 'Yu-Gi-Oh! 7 Trials to Glory: World Championship Tournament 2005 (Prima Official Game Guide)',\n",
       " 658: \"Presenting Keynote: The Insider's Guide to Creating Great Presentations\",\n",
       " 659: 'Gaining insight into unfamiliar contexts: A design toolbox as input for using role-play techniques',\n",
       " 660: 'The Unauthorized Halo 2 Battle Guide: Advanced Combat Techniques (Premier Press Game Development (Paperback))',\n",
       " 661: 'Herramientas Informaticas Para Psicologos',\n",
       " 662: 'Working Among Programmers: A Field Guide to the Software World',\n",
       " 663: 'Apple Final Cut Pro 4 (Español) VTC Training CD',\n",
       " 664: 'Unsupervised and supervised machine learning in user modeling for intelligent learning environments',\n",
       " 665: 'Mystery Fossil: A Physical Anthropology Laboratory Exercise for the Macintosh',\n",
       " 666: 'Autocad 2007 Tutor for Engineering Graphics',\n",
       " 667: 'DB2 9 for Developers',\n",
       " 668: 'E-Learning Games: Interactive Strategies for Digital Delivery (Neteffect Series)',\n",
       " 669: 'Internet Medical Guidebook & CD, Sixth Edition',\n",
       " 670: 'Developing More-Secure Microsoft ASP.NET 2.0 Applications (Pro Developer)',\n",
       " 671: 'Mathematical Knowledge Management: 5th International Conference, MKM 2006, Wokingham, UK, August 11-12, 2006, Proceedings (Lecture Notes in Computer Science)',\n",
       " 672: 'Animacion Con 3ds Max (Diseno Y Creatividad)',\n",
       " 673: 'Introduction to Microsoft Works/MacIntosh Version',\n",
       " 674: 'Essential Digital Manipulation Manual for Photographers',\n",
       " 675: 'Understanding and Using Linear Programming (Universitext)',\n",
       " 676: 'Java for Bioinformatics and Biomedical Applications',\n",
       " 677: 'LB Brief (3rd Edition)',\n",
       " 678: 'GO! with MicrosoftOffice Word 2003- Comprehensive (Go! with Microsoft Office)',\n",
       " 679: 'Expert Visual C++/CLI (Expert)',\n",
       " 680: 'Geometrical strengthening and tip-sharpening of a microneedle array fabricated by X-ray lithography',\n",
       " 681: 'High-capacity image hiding scheme based on vector quantization',\n",
       " 682: 'Microsoft Windows SharePoint Services Inside Out',\n",
       " 683: 'Programming Visual Basic 2005',\n",
       " 684: 'Achieving ISO/IEC 20000 - Why People Matter',\n",
       " 685: 'Systems Biology and Regulatory Genomics: Joint Annual RECOMB 2005 Satellite Workshops on Systems Biology and on Regulatory Genomics, San Diego, CA, USA, ... Papers (Lecture Notes in Computer Science)',\n",
       " 686: 'A 1000-word vocabulary, speaker-independent, continuous live-mode speech recognizer implemented in a single FPGA',\n",
       " 687: 'Flash Mx. Animacion (Diseno Y Creatividad)',\n",
       " 688: 'Googleonomics',\n",
       " 689: 'Secret Codes, 2006 (Volume 1)',\n",
       " 690: 'Unix Fur Dummies',\n",
       " 691: 'QuarkXPress to InDesign: Face to Face',\n",
       " 692: 'Successful ICT Projects in FrontPage 2000 (Successful ICT Projects)',\n",
       " 693: 'Puzzles for Programmers and Pros',\n",
       " 694: 'Notes from recent meetings: a review of the SIGPLAN/SIGMICRO interface meeting',\n",
       " 695: 'Modeling contention of sparse-matrix-vector multiplication (SMV) in three parallel programming paradigms',\n",
       " 696: 'AUTOCAD 2007',\n",
       " 697: 'Composing with MacWrite',\n",
       " 698: 'Linux Bible, 2005 Edition',\n",
       " 699: 'Interactive Science Encyclopedia CD-ROM Lab Packs: Macintosh with Book(s) (Science Encyclopedia CD-ROM)',\n",
       " 700: 'Antarctica (Continents)',\n",
       " 701: \"Novell Identity Manager Administrator's Handbook\",\n",
       " 702: 'The MacIntosh Bible Super Combo/2 Books and 2 Software Disks',\n",
       " 703: 'C# Programming',\n",
       " 704: 'An extended minimax disparity to determine the OWA operator weights',\n",
       " 705: 'Moderne Prozessorarchitekturen: Prinzipien und ihre Realisierungen',\n",
       " 706: 'A Primer of Textual Geometry',\n",
       " 707: 'Inventory Optimization with SAP',\n",
       " 708: 'Mechwarrior Domination Booster Pack (Battle Tech/Mech Warrior)',\n",
       " 709: 'Community Visions: Macintosh',\n",
       " 710: 'Emotion representation and physiology assignments in digital systems',\n",
       " 711: 'Clustered multicarrier systems for very wideband wireless communications -- Dissertation',\n",
       " 712: 'iPod and iTunes QuickSteps (Quicksteps)',\n",
       " 713: \"Diplomacy: Prima's Official Strategy Guide\",\n",
       " 714: 'The Comphrensive NCLEX-PN Review(Book w/CD-ROM)',\n",
       " 715: 'On transforming statistical models for non-frontal face verification',\n",
       " 716: 'Practical Data Migration',\n",
       " 717: \"Wireless Algorithms, Systems, and Applications: First International Conference, WASA 2006, Xi'an, China, August 15-17, 2006, Proceedings (Lecture Notes in Computer Science)\",\n",
       " 718: 'Professional Ajax, 2nd Edition',\n",
       " 719: 'Crimson Tears(tm) Official Strategy Guide',\n",
       " 720: 'Spyware Essentials',\n",
       " 721: 'Microsoft Windows Communication Foundation: Hands-on',\n",
       " 722: 'Illustrator 5.5 Training (Training on CD)',\n",
       " 723: 'Colette Urban: Recalling Belvedere',\n",
       " 724: 'CompTIA A+ Complete Fast Pass',\n",
       " 725: 'Database Support for Data Mining Applications: Discovering Knowledge with Inductive Queries (Lecture Notes in Computer Science)',\n",
       " 726: 'Running QuickBooks 2007 Premier Editions: The Only Comprehensive Guide to the Premier Editions',\n",
       " 727: 'Self-Managed Networks, Systems, and Services: Second IEEE International Workshops, SelfMan 2006, Dublin, Ireland, June 16, 2006, Proceedings (Lecture Notes in Computer Science)',\n",
       " 728: 'KeyX: Selective Key-Oriented Indexing in Native XML-Databases: Volume 93 Dissertations in Database and Information Systems - Infix',\n",
       " 729: 'Artificial Intelligence Applications and Innovations II: Second IFIP TC12 and WG12.5 Conference on Artificial Intelligence Applications and Innovations ... Federation for Information Processing)',\n",
       " 730: 'All You Need to Know About Music & the Internet Revolution',\n",
       " 731: \"Web Site Cookbook (Cookbooks (O'Reilly))\",\n",
       " 732: 'Software Engineering Techniques: Design for Quality (IFIP International Federation for Information Processing)',\n",
       " 733: 'Learning Theory: An Approximation Theory Viewpoint (Cambridge Monographs on Applied & Computational Mathematics)',\n",
       " 734: \"Plunkett's Infotech Industry Almanac 2006: The Only Comprehensive Guide to InfoTech Companies and Trends\",\n",
       " 735: 'Build a Business Process Solution Using Rational And Websphere Tools',\n",
       " 736: 'Notebooks Fur Dummies',\n",
       " 737: 'Neo-Photo',\n",
       " 738: 'Drawing & Detailing with SolidWorks 2006',\n",
       " 739: 'Larryboy and the Bad Apple (VeggieTales (Video Game))',\n",
       " 740: 'Microsoft Entourage 2004 for Mac OS X (Visual QuickStart Guide)',\n",
       " 741: 'Parallel Computational Fluid Dynamics 2005: Theory and Applications',\n",
       " 742: \"A Midsummer Night's Dream (Arkangel Complete Shakespeare)\",\n",
       " 743: 'Complete Guide to Anime Techniques: Create Mesmerizing Manga-style Animation with Pencils, Paint, and Pixels',\n",
       " 744: 'Database, protocols and tools for evaluating score-level fusion algorithms in biometric authentication',\n",
       " 745: 'A first&dash;order representation of stable models[1]A preliminary version of this paper has appeared in&colon; Proc. 4th International Conference on Logic Programming and Nonmonotonic Reasoning (LPNMR &rsquo;97), J. Dix, U. Furbach and A. Nerode, eds, LNCS 1265, Springer, 1997.',\n",
       " 746: 'MySQL, Second Edition (Visual QuickStart Guide)',\n",
       " 747: 'Hi Ho Librario!',\n",
       " 748: 'Autonomous Grouping of Contour-Segments Using an Adaptive Region-Growing Algorithm',\n",
       " 749: 'Rapid Prototyping of Digital Systems: Quartus® II Edition',\n",
       " 750: 'Excel 2003 (La Biblia De / the Bible of)',\n",
       " 751: '3D discrete skeleton generation by wave propagation on PR-octree for finite element mesh sizing',\n",
       " 752: 'Versus Books Official Perfect Guide for Grandia Xtreme',\n",
       " 753: 'Development of a runtime infrastructure for large-scale distributed simulations',\n",
       " 754: 'Algorithms and Complexity in Durham 2006: Proceedings of the Second ACiD Workshop',\n",
       " 755: 'GarageBand: The Missing Manual (Missing Manuals)',\n",
       " 756: 'USA (World in Focus)',\n",
       " 757: 'Digitale Bildauflösung: Grundlagen, Auflösungsbestimmung, Anwendungsbeispiele (X.Media.Press)',\n",
       " 758: \"Elsevier's Dictionary of Aquaculture\",\n",
       " 759: 'Secure Electronic Commerce: Custom Vc Online',\n",
       " 760: 'Transactions on Computational Systems Biology V (Lecture Notes in Computer Science)',\n",
       " 761: \"The Pocket Idiot's Guide to Satellite Radio (The Complete Idiot's Guide)\",\n",
       " 762: 'Practice of Business Statistics w/CD, & Excel Manual w/CD',\n",
       " 763: \"ADO.NET 2.0 Cookbook (Cookbooks (O'Reilly))\",\n",
       " 764: 'XQuery',\n",
       " 765: 'Aprendiendo PC Office Total: Curso Completo de Microsoft Office XP, en Español / Spanish',\n",
       " 766: 'Introducing Maya 6: 3D for Beginners',\n",
       " 767: 'Wired/Wireless Internet Communications: 4th International Conference, WWIC 2006, Bern, Switzerland, May 10-12, 2006, Proceedings (Lecture Notes in Computer Science)',\n",
       " 768: 'Multi-path TCP: a joint congestion control and routing scheme to exploit path diversity in the internet',\n",
       " 769: 'Unreal Tournament: Official Strategy Guide',\n",
       " 770: 'Virtual Enterprises and Collaborative Networks (IFIP International Federation for Information Processing)',\n",
       " 771: 'Photoshop 6 (Diseno Y Creatividad)',\n",
       " 772: 'Medieval II: Total War Official Strategy Guide (Official Strategy Guides (Bradygames))',\n",
       " 773: 'Information Security Fundamentals On-line Self-study Course',\n",
       " 774: 'Solaris 10 System Administration',\n",
       " 775: 'Programming Languages and Systems: 4th Asian Symposium, APLAS 2006, Sydney, Australia, November 8-10, 2006, Proceedings (Lecture Notes in Computer Science)',\n",
       " 776: 'Metrics for evaluating human information interaction systems',\n",
       " 777: 'AutoCAD 2006-2007 - Avanzado',\n",
       " 778: 'An independent component analysis-based filter design for defect detection in low-contrast surface images',\n",
       " 779: 'StataQuest, Release 2',\n",
       " 780: 'Networks: Internet, Telephony, Multimedia',\n",
       " 781: 'Multimedia Signal Processing: Theory and Applications in Speech, Music and Communications',\n",
       " 782: 'Oracle Database 10g Express Edition PHP Web Programming, 1 edition',\n",
       " 783: 'A Roadmap for Formal Property Verification',\n",
       " 784: 'Digimon World (UK)',\n",
       " 785: \"Faith Under Fire 2 Faith & Facts Participant's Guide (ZondervanGroupware Small Group Edition)\",\n",
       " 786: 'Visual Web Developer 2005 Express Edition Fur Dummies (Fur Dummies S.)',\n",
       " 787: 'Mixed-Signal Simulation with the Simbus Backplane',\n",
       " 788: 'Wireless Mesh Networks (Advanced Texts in Communications and Networking)',\n",
       " 789: 'Formal Methods for Components and Objects: 4th International Symposium, FMCO 2005, Amsterdam, The Netherlands, November 1-4, 2005, Revised Lectures (Lecture Notes in Computer Science)',\n",
       " 790: 'Manipula Tus Fotografias Digitales Con Photoshop Cs2/ the Photoshop Cs2 Book for Digital Photographers',\n",
       " 791: 'Rejection strategies for offline handwritten text line recognition',\n",
       " 792: 'Silent Hill 4: The Room Official Strategy Guide (Signature)',\n",
       " 793: 'Spatial join techniques',\n",
       " 794: \"Nintendo GameCube Collection: Luigi's Mansion / Super Smash Bros. Melee / Wave Race Blue Storm / Pikmin (Prima's Official Strategy Guide)\",\n",
       " 795: 'Dominando Linux Firewall Iptables',\n",
       " 796: 'Parallel Processing and Applied Mathematics: 5th International Conference, PPAM 2003, Czestochowa, Poland, September 7-10, 2003. Revised Papers (Lecture Notes in Computer Science)',\n",
       " 797: 'A level set approach to simulate magnetohydrodynamic-instabilities in aluminum reduction cells',\n",
       " 798: 'Simulation of job scheduling for small scale clusters',\n",
       " 799: 'Writing computer-based instruction with HyperStudio',\n",
       " 800: \"Holy Macro! It's 2,500 Excel VBA Examples: Every Snippet of Excel VBA Code You'll Ever Need\",\n",
       " 801: 'CCIE Practical Studies: Security (CCIE Self-Study)',\n",
       " 802: 'PMP Exam Success Series: Certification Study Pack (3rd Ed. PMBOK Guide Based)',\n",
       " 803: 'Design approach to implement implicit traffic in a simulation environment',\n",
       " 804: 'Windows XP, Brief Volume (SELECT Series)',\n",
       " 805: 'The Official eBaby Bible, Third Edition: The Newly Revised and Updated Version of the Most Comprehensive eBay How-To Manual for Everyone from First-Time Users to eBay Experts',\n",
       " 806: 'IBM System Z9 109 Configuration Setup',\n",
       " 807: 'A life with computers',\n",
       " 808: 'System Analyst and Design with Uml with Visible an Alyst and Microsoft Project 2002 Set',\n",
       " 809: 'Exploring Microsoft Office 2003 Enhanced Edition- Adhesive',\n",
       " 810: 'Appleworkshop for Teachers',\n",
       " 811: 'Video Production Workshop: DMA Series (DV Expert Series)',\n",
       " 812: 'Red Hat Linux 9 Unleashed',\n",
       " 813: 'Implicit Meshes for Effective Silhouette Handling',\n",
       " 814: 'Applied Partial Differential Equations: : A Visual Approach',\n",
       " 815: 'Struts: The Complete Reference, 2nd Edition, 2 edition',\n",
       " 816: 'MasteringActive Directory for WindowsServer 2003 R2 (Mastering)',\n",
       " 817: 'Student Edition 1-80 with Office 2003 Student Manual',\n",
       " 818: 'Sex Offenders and the Internet',\n",
       " 819: 'Efficient location area planning for personal communication systems',\n",
       " 820: \"Microsoft SQL Server 2005: A Beginner''s Guide, 1 edition\",\n",
       " 821: 'Database and Expert Systems Applications: 15th International Conference, DEXA 2004Zaragoza, Spain, August 30-September 3, 2004, Proceedings (Lecture Notes in Computer Science)',\n",
       " 822: 'Rapid Prototyping and Engineering Applications (Dekker Mechanical Engineering)',\n",
       " 823: 'Eloquent Images: Word and Image in the Age of New Media',\n",
       " 824: 'Special Issue on the DARPA Grand Challenge, Part 2',\n",
       " 825: 'Introduction to Appleworks Gs/Book With 3.5 Disk',\n",
       " 826: 'Logistic regression using covariates obtained by product-unit neural network models',\n",
       " 827: 'Bildverarbeitung für die Medizin 2006: Algorithmen - Systeme - AnwendungenProceedings des Workshops vom 19. - 21. März 2006 in Hamburg (Informatik aktuell)',\n",
       " 828: 'Supporting and Maintaining Windows 9x',\n",
       " 829: 'N3: Ninety-Nine Nights (Prima Official Game Guide)',\n",
       " 830: 'IT security: in search of the Holy Grail',\n",
       " 831: 'Sams Teach Yourself MySQL in 10 Minutes (Sams Teach Yourself)',\n",
       " 832: 'The Semantic Web: Research and Applications: 3rd European Semantic Web Conference, ESWC 2006Budva, Montenegro, June 11-14, 2006, Proceedings (Lecture Notes in Computer Science)',\n",
       " 833: 'Neural Networks: Computational Models and Applications (Studies in Computational Intelligence)',\n",
       " 834: 'Windows Xp Optimizacion/ Windows Xp Power Optimization',\n",
       " 835: 'Microsoft Office Excel 2003: Quick Course 1 (Briefcase Office 2003 Series)',\n",
       " 836: 'An experimental seminar on microprogramming and emulation',\n",
       " 837: 'Successful Strategies in Supply Chain Management',\n",
       " 838: 'Crafting and Executing Strategy: Text and Readings with OLC with Premium Content Card (Strategic Management: Concepts and Cases)',\n",
       " 839: 'AJAX and PHP: Building Responsive Web Applications',\n",
       " 840: 'MicroType Multimedia: CD-ROM Network: Macintosh',\n",
       " 841: \"The Packaging Designer's Book of Patterns\",\n",
       " 842: 'Computer And Intellectual Property Crime: Federal And State Law, 2005 Cumulative Supplement.',\n",
       " 843: 'Micro Java Games Development',\n",
       " 844: 'Financing Online Search Serv',\n",
       " 845: 'Pro Tools Overdrive!',\n",
       " 846: 'Graphic Communication Higher SQA Past Papers',\n",
       " 847: 'Dynamic Designs And P.a.s.s. Software',\n",
       " 848: 'Ornamental Initials CD-ROM and Book (Electronic Clip Art)',\n",
       " 849: 'Spline approximation of general volumetric data',\n",
       " 850: 'MCITP Administrator: Microsoft SQL Server 2005 Database Server Infrastructure Design Study Guide (Exam 70-443)',\n",
       " 851: 'The Online Customer: New Data Mining and Marketing Approaches',\n",
       " 852: 'Ottaviano Petrucci: A Catalogue Raisonne',\n",
       " 853: 'Best Mac Deal',\n",
       " 854: 'Pro Drupal Development',\n",
       " 855: 'A Unified Framework for Video Summarization, Browsing & Retrieval: with Applications to Consumer and Surveillance Video',\n",
       " 856: 'Research in Interactive Design: Proceedings of Virtual Concept 2005',\n",
       " 857: 'An Introduction to Computing Using Apple Works, Version 6 for Macintosh: Version 6',\n",
       " 858: 'Uncertainty analysis in political forecasting',\n",
       " 859: 'Project Portfolio Management: Leading the Corporate Vision',\n",
       " 860: 'CCNP All-in-One Desk Reference for Dummies',\n",
       " 861: 'Declarative Programming for Knowledge Management: 16th International Conference on Applications of Declarative Programming and Knowledge Management, INAP ... Papers (Lecture Notes in Computer Science)',\n",
       " 862: \"Medical Transcriptionist's Guide To Microsoft Word: Make It Your Own\",\n",
       " 863: 'Forum',\n",
       " 864: 'HP NonStop Server Security: A Practical Handbook (HP Technologies)',\n",
       " 865: 'Inside Blackcomb Networking',\n",
       " 866: 'CompTIA Network+ Certification Kit (Exam N10-033)',\n",
       " 867: 'Evolutionary Algorithms for Solving Multi-Objective Problems (Genetic and Evolutionary Computation)',\n",
       " 868: 'Public Key Cryptography - PKC 2005: 8th International Workshop on Theory and Practice in Public Key Cryptography (Lecture Notes in Computer Science)',\n",
       " 869: 'The Lightning Framework for Smart Client',\n",
       " 870: 'Projective reconstruction from line-correspondences in multiple uncalibrated images',\n",
       " 871: 'Viewtiful Joe(tm) Red Hot Rumble / Viewtiful Joe(tm) Double Trouble Offi (Official Strategy Guides (Bradygames))',\n",
       " 872: 'The Book: The Life Story of a Technology (Greenwood Technographies)',\n",
       " 873: 'Adobe Premiere Elements 2.0 Illustrated (Illustrated Series)',\n",
       " 874: 'Access Denied: How Internet Filters Impact Student Learning in High Schools',\n",
       " 875: 'Mystat: Stat Applicatns Macintosh',\n",
       " 876: '50 Ways to Make Google Love Your Web Site',\n",
       " 877: 'SUSE Linux For Dummies Source Code DVD (For Dummies S.)',\n",
       " 878: 'Erratum: Erratum to: Quickly tracing detection for spread spectrum watermark based on effect estimation of the affine transformation [Pattern Recognition 38 (12) 2530]',\n",
       " 879: 'Using UML: Software Engineering with Objects and Components (2nd Edition) (Addison-Wesley Object Technology)',\n",
       " 880: 'A+ in Depth with Flash Cards',\n",
       " 881: 'CASC',\n",
       " 882: 'Elementary Greek: Koine for Beginners, Year One',\n",
       " 883: \"Command & Conquer Generals: Zero Hour (Prima's Official Strategy Guide)\",\n",
       " 884: 'Organized to Be Your Best! Transforming How You Work, Fifth Edition',\n",
       " 885: 'Diseno Web/web Design: Elementos De Interfaz (Diseno Y Creatividad)',\n",
       " 886: 'Microsoft .NET Framework 1.1 Class Library Reference Volume 5: System.Web',\n",
       " 887: 'SuSE Linux zum Nachschlagen.',\n",
       " 888: 'Rediscovering secondary structures as network motifs---an unsupervised learning approach',\n",
       " 889: 'Supply Chain Management: Issues in the New Era of Collaboration and Competition',\n",
       " 890: \"Madden NFL 2001 for Eb (Prima's Official Strategy Guide)\",\n",
       " 891: 'Symbols and Signs: Explorations',\n",
       " 892: 'Mechanisms, Symbols, and Models Underlying Cognition: First International Work-Conference on the Interplay Between Natural and Artificial Computation, ... Part I (Lecture Notes in Computer Science)',\n",
       " 893: 'Red Hat Enterprise Linux Administration Unleashed',\n",
       " 894: 'Scattering and reflectance measurement',\n",
       " 895: 'Xenosaga EPISODE II: Jenseits von Gut und Bose Official Strategy Guide (Signature)',\n",
       " 896: 'Essentials Microsoft Office XP Enhanced Color Edition',\n",
       " 897: 'A Typographic Workbook: A Primer to History, Techniques, and Artistry',\n",
       " 898: 'Indigo Prophecy (Prima Official Game Guide)',\n",
       " 899: 'Production For Graphic Designers 4th edition',\n",
       " 900: 'Internet nuggets',\n",
       " 901: 'Transactions on Rough Sets II: Rough Sets and Fuzzy Sets (Lecture Notes in Computer Science)',\n",
       " 902: 'The Complex Networks of Economic Interactions: Essays in Agent-Based Economics and Econophysics (Lecture Notes in Economics and Mathematical Systems)',\n",
       " 903: 'A survey and comparison of CSCW groupware applications',\n",
       " 904: 'Windows Server 2003 Active Directory Infrastructure: Planning, Implementing and Maintaining (70-294) with Sticker Package',\n",
       " 905: 'Archiving Websites: A Practical Guide for Information Management Professionals',\n",
       " 906: '50 Quick & Easy Math Computer Activites',\n",
       " 907: 'Compiler Design',\n",
       " 908: 'ECDL/ICDL 3.0 Made Simple (Made Simple Computer Series)',\n",
       " 909: 'ECDL/ICDL Syllabus 4 Module 5 Databases Using Access 2000 (ECDL)',\n",
       " 910: 'Adobe InDesign CS Design Professional',\n",
       " 911: 'Programming in Haskell',\n",
       " 912: 'Color Image Segmentation for Objects of Interest with Modified Geodesic Active Contour Method',\n",
       " 913: 'Excel 5 for the Mac: The Visual Learning Guide',\n",
       " 914: 'Website to Accompany Engineering Programming: Solving Problems with Algorithms',\n",
       " 915: 'Discrete Optimization Algorithms: with Pascal Programs (Dover Books on Mathematics)',\n",
       " 916: 'Research Strategies for a Digital Age',\n",
       " 917: 'Five Days To A Security Breakdown!',\n",
       " 918: 'Technology Strategies for Law Firms: Leading CTOs and CIOs on Defining Firm Expectations, Purchasing New Technologies & Working with Lawyers (Inside the Minds) (Inside the Minds)',\n",
       " 919: 'Quicktime 3 & Movieplayer Pro (Visual QuickStart Guide)',\n",
       " 920: 'SAP SCM: Applications and Modeling for Supply Chain Management (with BW Primer)',\n",
       " 921: 'DiagnosisPro 6.0 (Pocket PC Version plus a 64MB Flash Card)',\n",
       " 922: 'Rapid and brief communication: An algorithm for semi-supervised learning in image retrieval',\n",
       " 923: 'Simulation analysis of an outpatient department of internal medicine in a university hospital',\n",
       " 924: 'Apple Pro Training Series: Advanced Title 102',\n",
       " 925: 'CNET Do-It-Yourself Digital Home Office Projects, 1 edition',\n",
       " 926: 'New Perspectives on Information Systems Development: Theory, Methods and Practice',\n",
       " 927: 'A least-squares finite element formulation for unsteady incompressible flows with improved velocity-pressure coupling',\n",
       " 928: 'Communications Standard Dictionary',\n",
       " 929: 'Red Hat Fedora Linux Secrets',\n",
       " 930: 'Chroma Key Using a Checker Pattern Background',\n",
       " 931: 'Intrusion and Malware Detection and Vulnerability Assessment: Second International Conference, DIMVA 2005, Vienna, Austria, July 7-8, 2005, Proceedings (Lecture Notes in Computer Science)',\n",
       " 932: 'HTML Publishing on the Internet for Macintosh',\n",
       " 933: 'SAP BW Reporting And Analysis',\n",
       " 934: 'On Your Side-access 2002',\n",
       " 935: 'Advertising Now! Online',\n",
       " 936: 'Nonlinear Dynamics of Chaotic and Stochastic Systems: Tutorial and Modern Developments (Springer Series in Synergetics)',\n",
       " 937: 'Heavy Metal Fakk2: Official Strategy Guide',\n",
       " 938: \"Don't Get Taken Every Time: The Ultimate Guide to Buying or Leasing a Car in the Showroom or on the Internet\",\n",
       " 939: 'Coordination Models and Languages: 7th International Conference, COORDINATION 2005, Namur, Belgium, April 20-23, 2005, Proceedings (Lecture Notes in Computer Science)',\n",
       " 940: 'SASSY: a design for a scalable agent-based simulation system using a distributed discrete event infrastructure',\n",
       " 941: 'Analysis of Variance in Statistical Image Processing',\n",
       " 942: 'Access / Access Hacks: Los Mejores Trucos / The Best Tricks',\n",
       " 943: 'Office 2000 (Manuales Imprescindibles)',\n",
       " 944: 'Oracle SQL Developer Handbook, 1 edition',\n",
       " 945: 'Donkey Kong 64 Pathways to Adventure',\n",
       " 946: 'The LaTeX Book: A Guide for Documentation and Presentation',\n",
       " 947: 'Causality information and fossil collection in timewarp simulations',\n",
       " 948: 'Automatic recognition of biological particles in microscopic images',\n",
       " 949: 'El Gran Libro de Linux',\n",
       " 950: 'Maclopedia: The Macintosh Hardware and Software Compendium',\n",
       " 951: 'PC Magazine Guide Windows XP Media Center Edition 2005',\n",
       " 952: 'Digital Design',\n",
       " 953: 'Prey Official Strategy Guide (Official Strategy Guides (Bradygames)) (Official Strategy Guides (Bradygames))',\n",
       " 954: 'Hacking Windows Vista (ExtremeTech) (ExtremeTech)',\n",
       " 955: 'Shrek the Third Official Strategy Guide',\n",
       " 956: \"Spreadsheet Tools for Engineers using Excel (Mcgraw-Hill's Best--Basic Engineering Series and Tools)\",\n",
       " 957: 'Windows Server 2003 Security: A Technical Reference (Microsoft Windows Server System Series)',\n",
       " 958: 'Using GOstats to test gene lists for GO term association',\n",
       " 959: 'Gerenciamiento de Proyectos Utilizando Excel y Project',\n",
       " 960: 'A microprogrammed virtual memory for Eclipse',\n",
       " 961: 'Domain Decomposition Methods in Science and Engineering XVI (Lecture Notes in Computational Science and Engineering)',\n",
       " 962: 'How Computer Games Help Children Learn',\n",
       " 963: 'Knowledge Maintenance of Case-Based Reasoning Systems: The Siam Methodology (Dissertations in Artificial Intelligence)',\n",
       " 964: 'Migrating from Microsoft Exchange 5.5 to Lotus Notes and Domino 6 (Ibm Redbooks.)',\n",
       " 965: \"2007/8 Directory of Employment-Related Sites on the Internet: For Recruiters and Job Seekers (Weddle's Directory of Employment Related Internet Sites for Recruiters and Job Seekers)\",\n",
       " 966: \"J.K. Lasser's Your 1991 Income Tax Software: Release 2 Macintosh\",\n",
       " 967: 'Programming in Visual Basic.Net 2005- Text Only',\n",
       " 968: 'Command & Conquer Tiberian Sun W/Items Card for Babbages',\n",
       " 969: 'The Berkeley DB Book',\n",
       " 970: 'Novel Materials and Methods for Display Technology',\n",
       " 971: 'Softwareentwicklung eingebetteter Systeme: Grundlagen, Modellierung, Qualitätssicherung (Xpert.press)',\n",
       " 972: 'Embedded Microcontrollers and Processor Design',\n",
       " 973: 'GURPS Character Builder',\n",
       " 974: \"A Project Manager's Guide to Passing the Project Management Exam\",\n",
       " 975: 'The Art of the Game',\n",
       " 976: 'The InDesign Effects Book',\n",
       " 977: 'Crea Y Presenta Tu Portafolio Digital/creat And Present You Digital Portforlio (Diseno Y Creatividad)',\n",
       " 978: 'Controlled SQL query evolution for decision support benchmarks',\n",
       " 979: 'Introduction to Financial Technology (Complete Technology Guides for Financial Services)',\n",
       " 980: 'Autodesk(R) Architectural Desktop 2004: Basics Through Advanced',\n",
       " 981: 'Einführung in die Technische Informatik - Aufgaben und Lösungen (Springers Lehrbücher der Informatik)',\n",
       " 982: 'The Unofficial Guide to Outlook 2007 (Unofficial Guides)',\n",
       " 983: 'Principles of Computational Fluid Dynamics',\n",
       " 984: 'ExamInsight For MCP/MCSE Exam 70-294 Windows Server 2003 Certification: Planning, Implementing, and Maintaining a Microsoft Windows Server 2003 Active ... (With Download Exam) Second Edition',\n",
       " 985: 'Learning Business Statistics With Microsoft Excel 2003',\n",
       " 986: 'Sas Companion for the Macintosh: Version 6',\n",
       " 987: 'PHP y MySQL - Tecnologias Para El Desarrollo de Aplicaciones Web',\n",
       " 988: 'SCJA - The Exam Questions Simulated - Hundreds of Mock Exam Questions and Expert Answers for the Sun Certified Java Associate Exam, from ExamScam.com - SCJA - The New, Pre - SCJP Certification',\n",
       " 989: 'Stanford emulation laboratory',\n",
       " 990: 'A new metric for measuring metamodels quality-of-fit for deterministic simulations',\n",
       " 991: 'Patterns for Computer-Mediated Interaction (Wiley Software Patterns Series)',\n",
       " 992: 'Starshot: Official Strategy Guide',\n",
       " 993: 'Professional Microsoft Message Queuing Handbook',\n",
       " 994: 'Photoshop CS (Guias Practicas Para Usuarios / Practical Guides for Users)',\n",
       " 995: \"Pokemon Gold and Silver (Prima's Official Strategy Guide)\",\n",
       " 996: 'New Perspectives on DOS, Third Edtion (Longhorn), Brief',\n",
       " 997: 'Event overview',\n",
       " 998: 'Professional C# 2005 with .NET 3.0',\n",
       " 999: 'Production Planning by Mixed Integer Programming (Springer Series in Operations Research and Financial Engineering)',\n",
       " ...}"
      ]
     },
     "execution_count": 320,
     "metadata": {},
     "output_type": "execute_result"
    }
   ],
   "source": [
    "idx_to_paper = {}\n",
    "for el in df.index:\n",
    "    idx_to_paper[el] = df.loc[el, 'title']\n",
    "idx_to_paper"
   ]
  },
  {
   "cell_type": "code",
   "execution_count": 321,
   "metadata": {},
   "outputs": [
    {
     "name": "stdout",
     "output_type": "stream",
     "text": [
      "DiGraph with 776686 nodes and 632458 edges\n"
     ]
    }
   ],
   "source": [
    "G2 = nx.DiGraph()\n",
    "G2.add_nodes_from(idx_to_paper.keys())\n",
    "\n",
    "for i in range(len(df)):\n",
    "    references = df.loc[i, 'references']\n",
    "    for ref in references:\n",
    "        G2.add_edge(i, idx_to_paper[ref])\n",
    "print(G2)"
   ]
  },
  {
   "cell_type": "markdown",
   "metadata": {},
   "source": [
    "- Cycles mean that a paper references another paper that referenced it! So basically, if I publish a paper, I would reference a paper that references my paper!! This is not of good scientifique practice and should not happen."
   ]
  },
  {
   "cell_type": "code",
   "execution_count": 322,
   "metadata": {},
   "outputs": [
    {
     "name": "stdout",
     "output_type": "stream",
     "text": [
      "Most cited: ('Introduction to algorithms', 816)\n"
     ]
    }
   ],
   "source": [
    "degrees_in = dict(G2.in_degree())\n",
    "most_citations = sorted(degrees_in.items(), key=lambda x:x[1], reverse=True)[0]\n",
    "print(\"Most cited:\", most_citations)"
   ]
  },
  {
   "cell_type": "code",
   "execution_count": 323,
   "metadata": {},
   "outputs": [
    {
     "name": "stdout",
     "output_type": "stream",
     "text": [
      "Most references: (216749, 195)\n",
      "paper:  Query evaluation techniques for large databases\n"
     ]
    }
   ],
   "source": [
    "degrees_out = dict(G2.out_degree())\n",
    "most_references = sorted(degrees_out.items(), key=lambda x:x[1], reverse=True)[0]\n",
    "print(\"Most references:\", most_references)\n",
    "print(\"paper: \", idx_to_paper[216749])"
   ]
  },
  {
   "cell_type": "markdown",
   "metadata": {},
   "source": [
    "**3.8 (3 pts)**: Analyze the Citation Distribution \n",
    "\n",
    "The citation distribution of papers can provide insights into the impact of research publications. In this task, you will analyze the citation distribution in the dataset.\n",
    "\n",
    "<!-- - Plot the number of papers having a certain level of citation x (x-axis) against x (y-axis) in a log-log scale. -->\n",
    "- Create a frequency distribution where the x-axis represents the number of citations and the y-axis represents the number of papers that have that number of citations. Plot two scatters plot of the frequency distribution first in a normal scale and second in a log-log scale. (2 pts)\n",
    "- **Discuss**: What does the plot suggest about the citation distribution in the dataset? (1 pt)"
   ]
  },
  {
   "cell_type": "code",
   "execution_count": 324,
   "metadata": {},
   "outputs": [
    {
     "data": {
      "image/png": "[encoded data removed]",
      "text/plain": [
       "<Figure size 640x480 with 1 Axes>"
      ]
     },
     "metadata": {},
     "output_type": "display_data"
    },
    {
     "data": {
      "image/png": "[encoded data removed]",
      "text/plain": [
       "<Figure size 640x480 with 1 Axes>"
      ]
     },
     "metadata": {},
     "output_type": "display_data"
    }
   ],
   "source": [
    "count = dict(Counter(degrees_in.values()))\n",
    "plt.scatter(count.keys(), count.values())\n",
    "plt.xlabel(\"Citations\")\n",
    "plt.ylabel(\"Frequency\")\n",
    "plt.title(\"linear scale\")\n",
    "plt.show()\n",
    "\n",
    "plt.scatter(count.keys(), count.values())\n",
    "plt.yscale('log')\n",
    "plt.xscale('log')\n",
    "plt.xlabel(\"Citations\")\n",
    "plt.ylabel(\"Frequency\")\n",
    "plt.title(\"log-log scale\")\n",
    "\n",
    "plt.show()"
   ]
  },
  {
   "cell_type": "markdown",
   "metadata": {},
   "source": [
    "The citation distribution is a powr law. It means that most paper are cited few times and few paper are cited many times :))"
   ]
  },
  {
   "cell_type": "markdown",
   "metadata": {},
   "source": [
    "**3.9 (3 pts)**: Central Tendency of Citation Distribution\n",
    "\n",
    "**Discuss:**: There are different ways to describe the central tendency of a citation distribution., such as mean. Determine the measure you think best represents the dataset and explain your reasoning. (Hint: Consider the distribution of the citation data above)\n"
   ]
  },
  {
   "cell_type": "markdown",
   "metadata": {},
   "source": [
    "For this dataset it is best to use the median, since we oberserve a power law. For a power law, the mean is not representative and the median is better suited!! The mean is sensitive to outliers and the power law is constituted of many outliers!! The median is more robust to outliers :)"
   ]
  },
  {
   "cell_type": "markdown",
   "metadata": {},
   "source": [
    "**3.10 (2pts)**: Network Centrality Measures\n",
    "\n",
    "PageRank is a measure of influence based on link structure. Applying it to citations allows us to rank papers by their academic importance\n",
    "\n",
    "#### Instructions:\n",
    "- You are tasked with curating the 'Top 10 Influential Papers' from this dataset. Use PageRank to justify your selection and display the top 10 papers titles by page rank. (2 pts)\n",
    "- **bonus**: Identify patterns among the top-ranked papers. (2 pts)\n"
   ]
  },
  {
   "cell_type": "code",
   "execution_count": 325,
   "metadata": {},
   "outputs": [],
   "source": [
    "pagerank = dict(nx.pagerank(G2))"
   ]
  },
  {
   "cell_type": "markdown",
   "metadata": {},
   "source": [
    "**3.11 (5 pts)**: Bridge Papers\n",
    "\n",
    "Bridge papers are those that connect different research communities. They are essential for fostering interdisciplinary research and knowledge transfer. \n",
    "\n",
    "#### Instructions: \n",
    "- Build a small citation network that only includes papers published in 2005. (2 pts)\n",
    "- Which measurement can help us identify bridge papers in a citation network?  (2 pt)\n",
    "- Try to find top10 bridge papers in the dataset. By looking at their titles, can you identify the research communities they connect? (Pick 2 papers) (1 pt)\n",
    "\n"
   ]
  },
  {
   "cell_type": "code",
   "execution_count": 326,
   "metadata": {},
   "outputs": [],
   "source": [
    "# TODO"
   ]
  },
  {
   "cell_type": "markdown",
   "metadata": {},
   "source": [
    "**3.12 (5 pts)**: Author-Citation Network\n",
    "\n",
    "In the previous tasks, we analyzed the co-author network and paper-citation network. In this task, we will analyze the author-citation network, where:\n",
    "- Nodes: Each node represents a unique author, identified by their name in the authors field of the dataset.\n",
    "- Edges: There is an edge from author A to author B if author A cites a paper authored by author B. \n",
    "- The weight of the edge represents the total number of citations from author A to author B.\n",
    "\n",
    "#### Instructions:\n",
    "- Given that we have a Author-Paper Matrix $A$ where each row represents an paper and each column represents an author. The value in the matrix is 1 if the author has contributed to the paper, 0 otherwise. And we also have a Paper-Paper citation matrix $P$ (square matrix) where the value at coordinates (i, j) is 1 if paper j cites paper i, 0 otherwise.\n",
    "- How can you get a Author-Author citation matrix from the above two matrices by matrix multiplication? (You don't need to implement this, just give the formula) (2 pts)\n",
    "- Author A may have never cited author B, but author A might have cited a few papers which cited works by author B. This can be seen as a 2nd degree citation.  More formally, a 2nd degree citation matrix $C_2$ has at each cell (i, j) the number 2nd degree citations from author i to author j. How can you get a 2nd degree citation matrix from the Author-Paper Matrix $A$ and Paper-Paper citation matrix $P$? (You don't need to implement this, just give the formula) (2 pts)\n",
    "- Can you generalize this to nth degree citation matrix? (1 pt)"
   ]
  },
  {
   "cell_type": "code",
   "execution_count": 327,
   "metadata": {},
   "outputs": [],
   "source": [
    "# TODO"
   ]
  }
 ],
 "metadata": {
  "kernelspec": {
   "display_name": "ada_exam_2024",
   "language": "python",
   "name": "python3"
  },
  "language_info": {
   "codemirror_mode": {
    "name": "ipython",
    "version": 3
   },
   "file_extension": ".py",
   "mimetype": "text/x-python",
   "name": "python",
   "nbconvert_exporter": "python",
   "pygments_lexer": "ipython3",
   "version": "3.10.16"
  }
 },
 "nbformat": 4,
 "nbformat_minor": 4
}
